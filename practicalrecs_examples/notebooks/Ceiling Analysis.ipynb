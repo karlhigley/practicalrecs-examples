{
 "cells": [
  {
   "cell_type": "code",
   "execution_count": 1,
   "metadata": {},
   "outputs": [],
   "source": [
    "# Better GPU tracebacks\n",
    "# import os\n",
    "# os.environ['CUDA_LAUNCH_BLOCKING'] = \"1\""
   ]
  },
  {
   "cell_type": "code",
   "execution_count": 2,
   "metadata": {},
   "outputs": [],
   "source": [
    "import faiss\n",
    "import pathlib\n",
    "import time\n",
    "from argparse import ArgumentParser\n",
    "from tqdm import tqdm\n",
    "\n",
    "import numpy as np\n",
    "import pybloomfilter as pbf\n",
    "import torch as th\n",
    "\n",
    "from pytorch_lightning import seed_everything, Trainer\n",
    "from ranking_metrics_torch.precision_recall import precision_at, recall_at\n",
    "from ranking_metrics_torch.cumulative_gain import ndcg_at\n",
    "from torch_factorization_models.implicit_mf import ImplicitMatrixFactorization\n",
    "from torch_factorization_models.movielens import MovielensDataset, MovielensDataModule"
   ]
  },
  {
   "cell_type": "code",
   "execution_count": 3,
   "metadata": {},
   "outputs": [],
   "source": [
    "from practicalrecs_examples.pipeline import RecsPipeline\n",
    "\n",
    "from practicalrecs_examples.ann_search import *\n",
    "from practicalrecs_examples.dithering import *\n",
    "from practicalrecs_examples.filtering import *\n",
    "from practicalrecs_examples.matrix_factorization import *"
   ]
  },
  {
   "cell_type": "code",
   "execution_count": 4,
   "metadata": {},
   "outputs": [
    {
     "data": {
      "text/plain": [
       "42"
      ]
     },
     "execution_count": 4,
     "metadata": {},
     "output_type": "execute_result"
    }
   ],
   "source": [
    "seed_everything(42)  # same seed used to create splits in training"
   ]
  },
  {
   "cell_type": "markdown",
   "metadata": {},
   "source": [
    "### Load dataset"
   ]
  },
  {
   "cell_type": "code",
   "execution_count": 5,
   "metadata": {},
   "outputs": [],
   "source": [
    "movielens_module = MovielensDataModule(\n",
    "    \"/home/karl/Projects/datasets/ml-20m/\",\n",
    "    batch_size=128\n",
    ")\n",
    "movielens_module.setup()"
   ]
  },
  {
   "cell_type": "code",
   "execution_count": 6,
   "metadata": {},
   "outputs": [],
   "source": [
    "movielens = movielens_module.dataset\n",
    "preprocessor = movielens.preprocessor\n",
    "user_xformer = preprocessor.named_transformers_['user_id']\n",
    "item_xformer = preprocessor.named_transformers_['item_id']"
   ]
  },
  {
   "cell_type": "markdown",
   "metadata": {},
   "source": [
    "### Load the model"
   ]
  },
  {
   "cell_type": "code",
   "execution_count": 7,
   "metadata": {},
   "outputs": [
    {
     "data": {
      "text/plain": [
       "Namespace(accumulate_grad_batches=1, amp_backend='native', amp_level='O2', auto_lr_find=False, auto_scale_batch_size=False, auto_select_gpus=False, benchmark=False, beta1=0.9, beta2=0.999, check_val_every_n_epoch=1, checkpoint_callback=True, default_root_dir=None, deterministic=False, distributed_backend=None, early_stop_callback=False, embedding_dim=32, eval_cutoff=tensor([100]), fast_dev_run=False, gpus=<function Trainer._gpus_arg_default at 0x7f766b94fdc0>, gradient_clip_val=0, learning_rate=0.1, limit_test_batches=1.0, limit_train_batches=1.0, limit_val_batches=1.0, log_gpu_memory=None, log_save_interval=100, logger=True, loss='logistic', max_epochs=1000, max_steps=None, min_epochs=1, min_steps=None, momentum=0.9, num_items=20720, num_nodes=1, num_processes=1, num_sanity_val_steps=2, num_users=138287, optimizer='sgd', overfit_batches=0.0, overfit_pct=None, precision=32, prepare_data_per_node=True, process_position=0, profiler=None, progress_bar_refresh_rate=1, reload_dataloaders_every_epoch=False, replace_sampler_ddp=True, resume_from_checkpoint=None, row_log_interval=50, sync_batchnorm=False, terminate_on_nan=False, test_percent_check=None, tpu_cores=<function Trainer._gpus_arg_default at 0x7f766b94fdc0>, track_grad_norm=-1, train_percent_check=None, truncated_bptt_steps=None, use_biases=False, val_check_interval=1.0, val_percent_check=None, weight_decay=0.01, weights_save_path=None, weights_summary='top')"
      ]
     },
     "execution_count": 7,
     "metadata": {},
     "output_type": "execute_result"
    }
   ],
   "source": [
    "parser = ArgumentParser(add_help=False)\n",
    "parser = Trainer.add_argparse_args(parser)\n",
    "parser = ImplicitMatrixFactorization.add_model_specific_args(parser)\n",
    "\n",
    "args = parser.parse_args(args=[])\n",
    "args.num_users = 138287\n",
    "args.num_items = 20720\n",
    "# args.use_biases = False\n",
    "args.embedding_dim = 32\n",
    "args.eval_cutoff = th.tensor([100])\n",
    "\n",
    "args"
   ]
  },
  {
   "cell_type": "code",
   "execution_count": 8,
   "metadata": {},
   "outputs": [
    {
     "data": {
      "text/plain": [
       "<All keys matched successfully>"
      ]
     },
     "execution_count": 8,
     "metadata": {},
     "output_type": "execute_result"
    }
   ],
   "source": [
    "model = ImplicitMatrixFactorization(args)\n",
    "\n",
    "state_dict = th.load(\"../models/mf_example.pt\")\n",
    "\n",
    "# preprocessor = state_dict['preprocessor']\n",
    "del state_dict['preprocessor']\n",
    "state_dict['global_bias_idx'] = th.LongTensor([0])\n",
    "\n",
    "model.load_state_dict(state_dict)"
   ]
  },
  {
   "cell_type": "code",
   "execution_count": 9,
   "metadata": {},
   "outputs": [],
   "source": [
    "if th.cuda.is_available():\n",
    "    model.cuda()\n",
    "    \n",
    "movielens_module.dataset.to_(device=model.device)"
   ]
  },
  {
   "cell_type": "code",
   "execution_count": 10,
   "metadata": {},
   "outputs": [],
   "source": [
    "val_dataloader = movielens_module.val_dataloader(by_user=True)"
   ]
  },
  {
   "cell_type": "code",
   "execution_count": 11,
   "metadata": {},
   "outputs": [],
   "source": [
    "train_dataloader = movielens_module.train_dataloader(by_user=True)"
   ]
  },
  {
   "cell_type": "markdown",
   "metadata": {},
   "source": [
    "### Model"
   ]
  },
  {
   "cell_type": "code",
   "execution_count": 12,
   "metadata": {},
   "outputs": [
    {
     "name": "stderr",
     "output_type": "stream",
     "text": [
      "100%|██████████| 1081/1081 [01:29<00:00, 12.12it/s]\n"
     ]
    }
   ],
   "source": [
    "model_metrics = model.compute_validation_metrics(\n",
    "    tqdm(val_dataloader),\n",
    "    model.eval_predict,\n",
    ")"
   ]
  },
  {
   "cell_type": "code",
   "execution_count": 13,
   "metadata": {},
   "outputs": [
    {
     "name": "stdout",
     "output_type": "stream",
     "text": [
      "Precision: 0.0163\n",
      "Recall: 0.5125\n",
      "NDCG: 0.2070\n"
     ]
    }
   ],
   "source": [
    "print(f\"Precision: {model_metrics['precision']:.4f}\")\n",
    "print(f\"Recall: {model_metrics['recall']:.4f}\")\n",
    "print(f\"NDCG: {model_metrics['ndcg']:.4f}\")"
   ]
  },
  {
   "cell_type": "markdown",
   "metadata": {},
   "source": [
    "### ANN Search Indexing"
   ]
  },
  {
   "cell_type": "code",
   "execution_count": 14,
   "metadata": {},
   "outputs": [
    {
     "data": {
      "text/plain": [
       "32"
      ]
     },
     "execution_count": 14,
     "metadata": {},
     "output_type": "execute_result"
    }
   ],
   "source": [
    "import faiss\n",
    "\n",
    "dim = model.hparams.embedding_dim\n",
    "dim"
   ]
  },
  {
   "cell_type": "code",
   "execution_count": 15,
   "metadata": {},
   "outputs": [],
   "source": [
    "item_vectors = np.array(model.item_embeddings.weight.cpu().data)"
   ]
  },
  {
   "cell_type": "code",
   "execution_count": 16,
   "metadata": {},
   "outputs": [
    {
     "name": "stdout",
     "output_type": "stream",
     "text": [
      "Indexed: 20720 items\n",
      "Elapsed: 188.8579 ms\n"
     ]
    }
   ],
   "source": [
    "res = faiss.StandardGpuResources()\n",
    "\n",
    "flat_config = faiss.GpuIndexFlatConfig()\n",
    "flat_config.device = 0\n",
    "\n",
    "# Create an index and add item vectors\n",
    "start = time.perf_counter()\n",
    "\n",
    "exact_index = faiss.GpuIndexFlatIP(res, dim, flat_config)  \n",
    "exact_index.add(item_vectors)\n",
    "\n",
    "end = time.perf_counter()\n",
    "\n",
    "elapsed = (end - start) * 1000\n",
    "\n",
    "print(f\"Indexed: {exact_index.ntotal} items\")\n",
    "print(f\"Elapsed: {elapsed:.4f} ms\")"
   ]
  },
  {
   "cell_type": "code",
   "execution_count": 17,
   "metadata": {},
   "outputs": [
    {
     "name": "stdout",
     "output_type": "stream",
     "text": [
      "Indexed: 20720 items\n",
      "Elapsed: 24339.9576 ms\n"
     ]
    }
   ],
   "source": [
    "# Create an index for approximate search with product quantization\n",
    "\n",
    "start = time.perf_counter()\n",
    "res = faiss.StandardGpuResources()\n",
    "\n",
    "approx_index = faiss.index_factory(dim, \"IVF1024,PQ32\", faiss.METRIC_INNER_PRODUCT)\n",
    "cloner_options = faiss.GpuClonerOptions()\n",
    "\n",
    "approx_index = faiss.index_cpu_to_gpu(res, 0, approx_index, cloner_options)\n",
    "\n",
    "approx_index.train(item_vectors)\n",
    "approx_index.add(item_vectors)\n",
    "\n",
    "approx_index.nprobe = 30\n",
    "\n",
    "end = time.perf_counter()\n",
    "\n",
    "elapsed = (end - start) * 1000\n",
    "\n",
    "print(f\"Indexed: {approx_index.ntotal} items\")\n",
    "print(f\"Elapsed: {elapsed:.4f} ms\")"
   ]
  },
  {
   "cell_type": "markdown",
   "metadata": {},
   "source": [
    "### Bloom filters"
   ]
  },
  {
   "cell_type": "code",
   "execution_count": 18,
   "metadata": {},
   "outputs": [
    {
     "data": {
      "text/plain": [
       "138287"
      ]
     },
     "execution_count": 18,
     "metadata": {},
     "output_type": "execute_result"
    }
   ],
   "source": [
    "train_dataloader.dataset.num_users"
   ]
  },
  {
   "cell_type": "code",
   "execution_count": 19,
   "metadata": {},
   "outputs": [
    {
     "name": "stderr",
     "output_type": "stream",
     "text": [
      "100%|██████████| 138287/138287 [00:54<00:00, 2532.60it/s]\n"
     ]
    }
   ],
   "source": [
    "bloom_filters = {}\n",
    "\n",
    "for user_id in tqdm(range(train_dataloader.dataset.num_users)):\n",
    "    interactions = train_dataloader.dataset[user_id][\"interactions\"].coalesce()    \n",
    "    item_ids = interactions.indices()[1]\n",
    "    \n",
    "    bloom = pbf.BloomFilter(10, 0.1)\n",
    "    bloom.update(item_ids)\n",
    "        \n",
    "    bloom_filters[user_id] = bloom"
   ]
  },
  {
   "cell_type": "markdown",
   "metadata": {},
   "source": [
    "### Pipeline"
   ]
  },
  {
   "cell_type": "code",
   "execution_count": 20,
   "metadata": {},
   "outputs": [],
   "source": [
    "def pipeline_fn(pipeline):\n",
    "    def pipeline_predict(user_ids, num_items):\n",
    "        user_scores = []\n",
    "        for user_id in user_ids:\n",
    "            user_id = int(user_id.cpu().item())\n",
    "\n",
    "            interactions = train_dataloader.dataset[user_id][\"interactions\"].coalesce()\n",
    "            item_ids = interactions.indices()[1]\n",
    "\n",
    "            scores = pipeline.recommend(user_id, item_ids)\n",
    "\n",
    "            user_scores.append(scores)\n",
    "\n",
    "        return th.stack(user_scores)\n",
    "    \n",
    "    return pipeline_predict"
   ]
  },
  {
   "cell_type": "code",
   "execution_count": 21,
   "metadata": {},
   "outputs": [],
   "source": [
    "num_candidates = 250\n",
    "num_recs = 100"
   ]
  },
  {
   "cell_type": "code",
   "execution_count": 22,
   "metadata": {},
   "outputs": [],
   "source": [
    "stages = [\n",
    "    # Retrieval\n",
    "    UserAvgEmbeddingFetcher(model),\n",
    "    ANNSearch(approx_index, args.num_items, num_candidates),\n",
    "    # Filtering\n",
    "    BloomFilter(bloom_filters),\n",
    "    CandidatePadding(args.num_items, num_candidates),\n",
    "    # Scoring\n",
    "    MatrixFactorizationScoring(model),\n",
    "    # Ordering\n",
    "    DitheredOrdering(num_recs, epsilon=1.5),\n",
    "]\n",
    "\n",
    "full_pipeline = RecsPipeline(*stages)"
   ]
  },
  {
   "cell_type": "code",
   "execution_count": 23,
   "metadata": {},
   "outputs": [
    {
     "name": "stderr",
     "output_type": "stream",
     "text": [
      "100%|██████████| 1081/1081 [04:34<00:00,  3.93it/s]"
     ]
    },
    {
     "name": "stdout",
     "output_type": "stream",
     "text": [
      "\n",
      "Precision: 0.0077\n",
      "Recall: 0.3055\n",
      "NDCG: 0.1792\n"
     ]
    },
    {
     "name": "stderr",
     "output_type": "stream",
     "text": [
      "\n"
     ]
    }
   ],
   "source": [
    "pipeline_metrics = model.compute_validation_metrics(\n",
    "    tqdm(val_dataloader),\n",
    "    pipeline_fn(full_pipeline)\n",
    ")\n",
    "\n",
    "print(f\"\\nPrecision: {pipeline_metrics['precision']:.4f}\")\n",
    "print(f\"Recall: {pipeline_metrics['recall']:.4f}\")\n",
    "print(f\"NDCG: {pipeline_metrics['ndcg']:.4f}\")"
   ]
  },
  {
   "cell_type": "code",
   "execution_count": null,
   "metadata": {},
   "outputs": [],
   "source": []
  },
  {
   "cell_type": "markdown",
   "metadata": {},
   "source": [
    "### Ideal Retrieval"
   ]
  },
  {
   "cell_type": "code",
   "execution_count": 24,
   "metadata": {},
   "outputs": [],
   "source": [
    "# Learned user embedding, exact NN search, idealized results\n",
    "\n",
    "ideal_retrieval_stages = [\n",
    "    # Retrieval\n",
    "    UserEmbeddingFetcher(model),\n",
    "    IdealizedANNSearch(val_dataloader.dataset, exact_index, args.num_items, num_candidates),\n",
    "    # Filtering\n",
    "    BloomFilter(bloom_filters),\n",
    "    CandidatePadding(args.num_items, num_candidates),\n",
    "    # Scoring\n",
    "    MatrixFactorizationScoring(model),\n",
    "    # Ordering\n",
    "    DitheredOrdering(num_recs, epsilon=1.5),\n",
    "]\n",
    "\n",
    "ideal_retrieval = RecsPipeline(*ideal_retrieval_stages)"
   ]
  },
  {
   "cell_type": "code",
   "execution_count": 25,
   "metadata": {},
   "outputs": [
    {
     "name": "stderr",
     "output_type": "stream",
     "text": [
      "100%|██████████| 1081/1081 [05:13<00:00,  3.45it/s]"
     ]
    },
    {
     "name": "stdout",
     "output_type": "stream",
     "text": [
      "\n",
      "Precision: 0.0109\n",
      "Recall: 0.4227\n",
      "NDCG: 0.1997\n"
     ]
    },
    {
     "name": "stderr",
     "output_type": "stream",
     "text": [
      "\n"
     ]
    }
   ],
   "source": [
    "ideal_retrieval_metrics = model.compute_validation_metrics(\n",
    "    tqdm(val_dataloader),\n",
    "    pipeline_fn(ideal_retrieval)\n",
    ")\n",
    "\n",
    "print(f\"\\nPrecision: {ideal_retrieval_metrics['precision']:.4f}\")\n",
    "print(f\"Recall: {ideal_retrieval_metrics['recall']:.4f}\")\n",
    "print(f\"NDCG: {ideal_retrieval_metrics['ndcg']:.4f}\")"
   ]
  },
  {
   "cell_type": "code",
   "execution_count": 26,
   "metadata": {},
   "outputs": [],
   "source": [
    "# TODO: Explore combinations of exact search, learned user vs item embeddings, etc"
   ]
  },
  {
   "cell_type": "code",
   "execution_count": 27,
   "metadata": {},
   "outputs": [],
   "source": [
    "# Learned user embedding, exact NN search, no idealization\n",
    "\n",
    "learned_exact_nonideal_stages = [\n",
    "    # Retrieval\n",
    "    UserEmbeddingFetcher(model),\n",
    "    ANNSearch(exact_index, args.num_items, num_candidates),\n",
    "    # Filtering\n",
    "    BloomFilter(bloom_filters),\n",
    "    CandidatePadding(args.num_items, num_candidates),\n",
    "    # Scoring\n",
    "    MatrixFactorizationScoring(model),\n",
    "    # Ordering\n",
    "    DitheredOrdering(num_recs, epsilon=1.5),\n",
    "]\n",
    "\n",
    "learned_exact_nonideal_retrieval = RecsPipeline(*learned_exact_nonideal_stages)"
   ]
  },
  {
   "cell_type": "code",
   "execution_count": 28,
   "metadata": {},
   "outputs": [
    {
     "name": "stderr",
     "output_type": "stream",
     "text": [
      "100%|██████████| 1081/1081 [04:40<00:00,  3.85it/s]"
     ]
    },
    {
     "name": "stdout",
     "output_type": "stream",
     "text": [
      "\n",
      "Precision: 0.0103\n",
      "Recall: 0.4143\n",
      "NDCG: 0.2023\n"
     ]
    },
    {
     "name": "stderr",
     "output_type": "stream",
     "text": [
      "\n"
     ]
    }
   ],
   "source": [
    "learned_exact_nonideal_metrics = model.compute_validation_metrics(\n",
    "    tqdm(val_dataloader),\n",
    "    pipeline_fn(learned_exact_nonideal_retrieval)\n",
    ")\n",
    "\n",
    "print(f\"\\nPrecision: {learned_exact_nonideal_metrics['precision']:.4f}\")\n",
    "print(f\"Recall: {learned_exact_nonideal_metrics['recall']:.4f}\")\n",
    "print(f\"NDCG: {learned_exact_nonideal_metrics['ndcg']:.4f}\")"
   ]
  },
  {
   "cell_type": "code",
   "execution_count": 29,
   "metadata": {},
   "outputs": [],
   "source": [
    "# Learned user embedding, approx NN search, no idealization\n",
    "\n",
    "learned_approx_nonideal_stages = [\n",
    "    # Retrieval\n",
    "    UserEmbeddingFetcher(model),\n",
    "    ANNSearch(approx_index, args.num_items, num_candidates),\n",
    "    # Filtering\n",
    "    BloomFilter(bloom_filters),\n",
    "    CandidatePadding(args.num_items, num_candidates),\n",
    "    # Scoring\n",
    "    MatrixFactorizationScoring(model),\n",
    "    # Ordering\n",
    "    DitheredOrdering(num_recs, epsilon=1.5),\n",
    "]\n",
    "\n",
    "learned_approx_nonideal_retrieval = RecsPipeline(*learned_approx_nonideal_stages)"
   ]
  },
  {
   "cell_type": "code",
   "execution_count": 30,
   "metadata": {},
   "outputs": [
    {
     "name": "stderr",
     "output_type": "stream",
     "text": [
      "100%|██████████| 1081/1081 [04:27<00:00,  4.04it/s]"
     ]
    },
    {
     "name": "stdout",
     "output_type": "stream",
     "text": [
      "\n",
      "Precision: 0.0103\n",
      "Recall: 0.4124\n",
      "NDCG: 0.2034\n"
     ]
    },
    {
     "name": "stderr",
     "output_type": "stream",
     "text": [
      "\n"
     ]
    }
   ],
   "source": [
    "learned_approx_nonideal_metrics = model.compute_validation_metrics(\n",
    "    tqdm(val_dataloader),\n",
    "    pipeline_fn(learned_approx_nonideal_retrieval)\n",
    ")\n",
    "\n",
    "print(f\"\\nPrecision: {learned_approx_nonideal_metrics['precision']:.4f}\")\n",
    "print(f\"Recall: {learned_approx_nonideal_metrics['recall']:.4f}\")\n",
    "print(f\"NDCG: {learned_approx_nonideal_metrics['ndcg']:.4f}\")"
   ]
  },
  {
   "cell_type": "code",
   "execution_count": 31,
   "metadata": {},
   "outputs": [],
   "source": [
    "# Item embeddings, exact NN search, idealized results\n",
    "\n",
    "items_exact_ideal_stages = [\n",
    "    # Retrieval\n",
    "    ItemEmbeddingsFetcher(model),\n",
    "    IdealizedANNSearch(val_dataloader.dataset, exact_index, args.num_items, num_candidates),\n",
    "    # Filtering\n",
    "    BloomFilter(bloom_filters),\n",
    "    CandidatePadding(args.num_items, num_candidates),\n",
    "    # Scoring\n",
    "    MatrixFactorizationScoring(model),\n",
    "    # Ordering\n",
    "    DitheredOrdering(num_recs, epsilon=1.5),\n",
    "]\n",
    "\n",
    "items_exact_ideal_retrieval = RecsPipeline(*items_exact_ideal_stages)"
   ]
  },
  {
   "cell_type": "code",
   "execution_count": 32,
   "metadata": {},
   "outputs": [
    {
     "name": "stderr",
     "output_type": "stream",
     "text": [
      "  0%|          | 0/1081 [00:00<?, ?it/s]\n"
     ]
    },
    {
     "ename": "ValueError",
     "evalue": "not enough values to unpack (expected 2, got 1)",
     "output_type": "error",
     "traceback": [
      "\u001b[0;31m---------------------------------------------------------------------------\u001b[0m",
      "\u001b[0;31mValueError\u001b[0m                                Traceback (most recent call last)",
      "\u001b[0;32m<ipython-input-32-229995646c29>\u001b[0m in \u001b[0;36m<module>\u001b[0;34m\u001b[0m\n\u001b[0;32m----> 1\u001b[0;31m items_exact_ideal_metrics = model.compute_validation_metrics(\n\u001b[0m\u001b[1;32m      2\u001b[0m     \u001b[0mtqdm\u001b[0m\u001b[0;34m(\u001b[0m\u001b[0mval_dataloader\u001b[0m\u001b[0;34m)\u001b[0m\u001b[0;34m,\u001b[0m\u001b[0;34m\u001b[0m\u001b[0;34m\u001b[0m\u001b[0m\n\u001b[1;32m      3\u001b[0m     \u001b[0mpipeline_fn\u001b[0m\u001b[0;34m(\u001b[0m\u001b[0mitems_exact_ideal_retrieval\u001b[0m\u001b[0;34m)\u001b[0m\u001b[0;34m\u001b[0m\u001b[0;34m\u001b[0m\u001b[0m\n\u001b[1;32m      4\u001b[0m )\n\u001b[1;32m      5\u001b[0m \u001b[0;34m\u001b[0m\u001b[0m\n",
      "\u001b[0;32m~/.pyenv/versions/3.8.3/envs/practicalrecs-examples/lib/python3.8/site-packages/pytorch_lightning/core/decorators.py\u001b[0m in \u001b[0;36mauto_transfer_args\u001b[0;34m(self, *args, **kwargs)\u001b[0m\n\u001b[1;32m     60\u001b[0m         \u001b[0margs\u001b[0m \u001b[0;34m=\u001b[0m \u001b[0mself\u001b[0m\u001b[0;34m.\u001b[0m\u001b[0mtransfer_batch_to_device\u001b[0m\u001b[0;34m(\u001b[0m\u001b[0margs\u001b[0m\u001b[0;34m,\u001b[0m \u001b[0mself\u001b[0m\u001b[0;34m.\u001b[0m\u001b[0mdevice\u001b[0m\u001b[0;34m)\u001b[0m\u001b[0;34m\u001b[0m\u001b[0;34m\u001b[0m\u001b[0m\n\u001b[1;32m     61\u001b[0m         \u001b[0mkwargs\u001b[0m \u001b[0;34m=\u001b[0m \u001b[0mself\u001b[0m\u001b[0;34m.\u001b[0m\u001b[0mtransfer_batch_to_device\u001b[0m\u001b[0;34m(\u001b[0m\u001b[0mkwargs\u001b[0m\u001b[0;34m,\u001b[0m \u001b[0mself\u001b[0m\u001b[0;34m.\u001b[0m\u001b[0mdevice\u001b[0m\u001b[0;34m)\u001b[0m\u001b[0;34m\u001b[0m\u001b[0;34m\u001b[0m\u001b[0m\n\u001b[0;32m---> 62\u001b[0;31m         \u001b[0;32mreturn\u001b[0m \u001b[0mfn\u001b[0m\u001b[0;34m(\u001b[0m\u001b[0mself\u001b[0m\u001b[0;34m,\u001b[0m \u001b[0;34m*\u001b[0m\u001b[0margs\u001b[0m\u001b[0;34m,\u001b[0m \u001b[0;34m**\u001b[0m\u001b[0mkwargs\u001b[0m\u001b[0;34m)\u001b[0m\u001b[0;34m\u001b[0m\u001b[0;34m\u001b[0m\u001b[0m\n\u001b[0m\u001b[1;32m     63\u001b[0m \u001b[0;34m\u001b[0m\u001b[0m\n\u001b[1;32m     64\u001b[0m     \u001b[0;32mreturn\u001b[0m \u001b[0mauto_transfer_args\u001b[0m\u001b[0;34m\u001b[0m\u001b[0;34m\u001b[0m\u001b[0m\n",
      "\u001b[0;32m~/.pyenv/versions/3.8.3/envs/practicalrecs-examples/lib/python3.8/site-packages/torch/autograd/grad_mode.py\u001b[0m in \u001b[0;36mdecorate_context\u001b[0;34m(*args, **kwargs)\u001b[0m\n\u001b[1;32m     24\u001b[0m         \u001b[0;32mdef\u001b[0m \u001b[0mdecorate_context\u001b[0m\u001b[0;34m(\u001b[0m\u001b[0;34m*\u001b[0m\u001b[0margs\u001b[0m\u001b[0;34m,\u001b[0m \u001b[0;34m**\u001b[0m\u001b[0mkwargs\u001b[0m\u001b[0;34m)\u001b[0m\u001b[0;34m:\u001b[0m\u001b[0;34m\u001b[0m\u001b[0;34m\u001b[0m\u001b[0m\n\u001b[1;32m     25\u001b[0m             \u001b[0;32mwith\u001b[0m \u001b[0mself\u001b[0m\u001b[0;34m.\u001b[0m\u001b[0m__class__\u001b[0m\u001b[0;34m(\u001b[0m\u001b[0;34m)\u001b[0m\u001b[0;34m:\u001b[0m\u001b[0;34m\u001b[0m\u001b[0;34m\u001b[0m\u001b[0m\n\u001b[0;32m---> 26\u001b[0;31m                 \u001b[0;32mreturn\u001b[0m \u001b[0mfunc\u001b[0m\u001b[0;34m(\u001b[0m\u001b[0;34m*\u001b[0m\u001b[0margs\u001b[0m\u001b[0;34m,\u001b[0m \u001b[0;34m**\u001b[0m\u001b[0mkwargs\u001b[0m\u001b[0;34m)\u001b[0m\u001b[0;34m\u001b[0m\u001b[0;34m\u001b[0m\u001b[0m\n\u001b[0m\u001b[1;32m     27\u001b[0m         \u001b[0;32mreturn\u001b[0m \u001b[0mcast\u001b[0m\u001b[0;34m(\u001b[0m\u001b[0mF\u001b[0m\u001b[0;34m,\u001b[0m \u001b[0mdecorate_context\u001b[0m\u001b[0;34m)\u001b[0m\u001b[0;34m\u001b[0m\u001b[0;34m\u001b[0m\u001b[0m\n\u001b[1;32m     28\u001b[0m \u001b[0;34m\u001b[0m\u001b[0m\n",
      "\u001b[0;32m~/Projects/torch-factorization-models/torch_factorization_models/implicit_mf.py\u001b[0m in \u001b[0;36mcompute_validation_metrics\u001b[0;34m(self, dataloader, prediction_fn)\u001b[0m\n\u001b[1;32m    184\u001b[0m \u001b[0;34m\u001b[0m\u001b[0m\n\u001b[1;32m    185\u001b[0m         \u001b[0;32mfor\u001b[0m \u001b[0mbatch_idx\u001b[0m\u001b[0;34m,\u001b[0m \u001b[0mbatch\u001b[0m \u001b[0;32min\u001b[0m \u001b[0menumerate\u001b[0m\u001b[0;34m(\u001b[0m\u001b[0mdataloader\u001b[0m\u001b[0;34m)\u001b[0m\u001b[0;34m:\u001b[0m\u001b[0;34m\u001b[0m\u001b[0;34m\u001b[0m\u001b[0m\n\u001b[0;32m--> 186\u001b[0;31m             \u001b[0moutput\u001b[0m \u001b[0;34m=\u001b[0m \u001b[0mself\u001b[0m\u001b[0;34m.\u001b[0m\u001b[0mevaluation_step\u001b[0m\u001b[0;34m(\u001b[0m\u001b[0mbatch\u001b[0m\u001b[0;34m,\u001b[0m \u001b[0mbatch_idx\u001b[0m\u001b[0;34m,\u001b[0m \u001b[0mprediction_fn\u001b[0m\u001b[0;34m)\u001b[0m\u001b[0;34m\u001b[0m\u001b[0;34m\u001b[0m\u001b[0m\n\u001b[0m\u001b[1;32m    187\u001b[0m             \u001b[0moutputs\u001b[0m\u001b[0;34m.\u001b[0m\u001b[0mappend\u001b[0m\u001b[0;34m(\u001b[0m\u001b[0moutput\u001b[0m\u001b[0;34m)\u001b[0m\u001b[0;34m\u001b[0m\u001b[0;34m\u001b[0m\u001b[0m\n\u001b[1;32m    188\u001b[0m \u001b[0;34m\u001b[0m\u001b[0m\n",
      "\u001b[0;32m~/.pyenv/versions/3.8.3/envs/practicalrecs-examples/lib/python3.8/site-packages/pytorch_lightning/core/decorators.py\u001b[0m in \u001b[0;36mauto_transfer_args\u001b[0;34m(self, *args, **kwargs)\u001b[0m\n\u001b[1;32m     60\u001b[0m         \u001b[0margs\u001b[0m \u001b[0;34m=\u001b[0m \u001b[0mself\u001b[0m\u001b[0;34m.\u001b[0m\u001b[0mtransfer_batch_to_device\u001b[0m\u001b[0;34m(\u001b[0m\u001b[0margs\u001b[0m\u001b[0;34m,\u001b[0m \u001b[0mself\u001b[0m\u001b[0;34m.\u001b[0m\u001b[0mdevice\u001b[0m\u001b[0;34m)\u001b[0m\u001b[0;34m\u001b[0m\u001b[0;34m\u001b[0m\u001b[0m\n\u001b[1;32m     61\u001b[0m         \u001b[0mkwargs\u001b[0m \u001b[0;34m=\u001b[0m \u001b[0mself\u001b[0m\u001b[0;34m.\u001b[0m\u001b[0mtransfer_batch_to_device\u001b[0m\u001b[0;34m(\u001b[0m\u001b[0mkwargs\u001b[0m\u001b[0;34m,\u001b[0m \u001b[0mself\u001b[0m\u001b[0;34m.\u001b[0m\u001b[0mdevice\u001b[0m\u001b[0;34m)\u001b[0m\u001b[0;34m\u001b[0m\u001b[0;34m\u001b[0m\u001b[0m\n\u001b[0;32m---> 62\u001b[0;31m         \u001b[0;32mreturn\u001b[0m \u001b[0mfn\u001b[0m\u001b[0;34m(\u001b[0m\u001b[0mself\u001b[0m\u001b[0;34m,\u001b[0m \u001b[0;34m*\u001b[0m\u001b[0margs\u001b[0m\u001b[0;34m,\u001b[0m \u001b[0;34m**\u001b[0m\u001b[0mkwargs\u001b[0m\u001b[0;34m)\u001b[0m\u001b[0;34m\u001b[0m\u001b[0;34m\u001b[0m\u001b[0m\n\u001b[0m\u001b[1;32m     63\u001b[0m \u001b[0;34m\u001b[0m\u001b[0m\n\u001b[1;32m     64\u001b[0m     \u001b[0;32mreturn\u001b[0m \u001b[0mauto_transfer_args\u001b[0m\u001b[0;34m\u001b[0m\u001b[0;34m\u001b[0m\u001b[0m\n",
      "\u001b[0;32m~/.pyenv/versions/3.8.3/envs/practicalrecs-examples/lib/python3.8/site-packages/torch/autograd/grad_mode.py\u001b[0m in \u001b[0;36mdecorate_context\u001b[0;34m(*args, **kwargs)\u001b[0m\n\u001b[1;32m     24\u001b[0m         \u001b[0;32mdef\u001b[0m \u001b[0mdecorate_context\u001b[0m\u001b[0;34m(\u001b[0m\u001b[0;34m*\u001b[0m\u001b[0margs\u001b[0m\u001b[0;34m,\u001b[0m \u001b[0;34m**\u001b[0m\u001b[0mkwargs\u001b[0m\u001b[0;34m)\u001b[0m\u001b[0;34m:\u001b[0m\u001b[0;34m\u001b[0m\u001b[0;34m\u001b[0m\u001b[0m\n\u001b[1;32m     25\u001b[0m             \u001b[0;32mwith\u001b[0m \u001b[0mself\u001b[0m\u001b[0;34m.\u001b[0m\u001b[0m__class__\u001b[0m\u001b[0;34m(\u001b[0m\u001b[0;34m)\u001b[0m\u001b[0;34m:\u001b[0m\u001b[0;34m\u001b[0m\u001b[0;34m\u001b[0m\u001b[0m\n\u001b[0;32m---> 26\u001b[0;31m                 \u001b[0;32mreturn\u001b[0m \u001b[0mfunc\u001b[0m\u001b[0;34m(\u001b[0m\u001b[0;34m*\u001b[0m\u001b[0margs\u001b[0m\u001b[0;34m,\u001b[0m \u001b[0;34m**\u001b[0m\u001b[0mkwargs\u001b[0m\u001b[0;34m)\u001b[0m\u001b[0;34m\u001b[0m\u001b[0;34m\u001b[0m\u001b[0m\n\u001b[0m\u001b[1;32m     27\u001b[0m         \u001b[0;32mreturn\u001b[0m \u001b[0mcast\u001b[0m\u001b[0;34m(\u001b[0m\u001b[0mF\u001b[0m\u001b[0;34m,\u001b[0m \u001b[0mdecorate_context\u001b[0m\u001b[0;34m)\u001b[0m\u001b[0;34m\u001b[0m\u001b[0;34m\u001b[0m\u001b[0m\n\u001b[1;32m     28\u001b[0m \u001b[0;34m\u001b[0m\u001b[0m\n",
      "\u001b[0;32m~/Projects/torch-factorization-models/torch_factorization_models/implicit_mf.py\u001b[0m in \u001b[0;36mevaluation_step\u001b[0;34m(self, batch, batch_idx, prediction_fn)\u001b[0m\n\u001b[1;32m    162\u001b[0m \u001b[0;34m\u001b[0m\u001b[0m\n\u001b[1;32m    163\u001b[0m         \u001b[0;31m# Score all the items for each user in the batch\u001b[0m\u001b[0;34m\u001b[0m\u001b[0;34m\u001b[0m\u001b[0;34m\u001b[0m\u001b[0m\n\u001b[0;32m--> 164\u001b[0;31m         predictions = prediction_fn(th.unique(user_ids), self.hparams.num_items).to(\n\u001b[0m\u001b[1;32m    165\u001b[0m             \u001b[0mdtype\u001b[0m\u001b[0;34m=\u001b[0m\u001b[0mth\u001b[0m\u001b[0;34m.\u001b[0m\u001b[0mfloat64\u001b[0m\u001b[0;34m\u001b[0m\u001b[0;34m\u001b[0m\u001b[0m\n\u001b[1;32m    166\u001b[0m         )\n",
      "\u001b[0;32m<ipython-input-20-9db0d039543b>\u001b[0m in \u001b[0;36mpipeline_predict\u001b[0;34m(user_ids, num_items)\u001b[0m\n\u001b[1;32m      8\u001b[0m             \u001b[0mitem_ids\u001b[0m \u001b[0;34m=\u001b[0m \u001b[0minteractions\u001b[0m\u001b[0;34m.\u001b[0m\u001b[0mindices\u001b[0m\u001b[0;34m(\u001b[0m\u001b[0;34m)\u001b[0m\u001b[0;34m[\u001b[0m\u001b[0;36m1\u001b[0m\u001b[0;34m]\u001b[0m\u001b[0;34m\u001b[0m\u001b[0;34m\u001b[0m\u001b[0m\n\u001b[1;32m      9\u001b[0m \u001b[0;34m\u001b[0m\u001b[0m\n\u001b[0;32m---> 10\u001b[0;31m             \u001b[0mscores\u001b[0m \u001b[0;34m=\u001b[0m \u001b[0mpipeline\u001b[0m\u001b[0;34m.\u001b[0m\u001b[0mrecommend\u001b[0m\u001b[0;34m(\u001b[0m\u001b[0muser_id\u001b[0m\u001b[0;34m,\u001b[0m \u001b[0mitem_ids\u001b[0m\u001b[0;34m)\u001b[0m\u001b[0;34m\u001b[0m\u001b[0;34m\u001b[0m\u001b[0m\n\u001b[0m\u001b[1;32m     11\u001b[0m \u001b[0;34m\u001b[0m\u001b[0m\n\u001b[1;32m     12\u001b[0m             \u001b[0muser_scores\u001b[0m\u001b[0;34m.\u001b[0m\u001b[0mappend\u001b[0m\u001b[0;34m(\u001b[0m\u001b[0mscores\u001b[0m\u001b[0;34m)\u001b[0m\u001b[0;34m\u001b[0m\u001b[0;34m\u001b[0m\u001b[0m\n",
      "\u001b[0;32m~/Projects/practicalrecs-examples/practicalrecs_examples/pipeline.py\u001b[0m in \u001b[0;36mrecommend\u001b[0;34m(self, user_id, interacted_item_ids)\u001b[0m\n\u001b[1;32m     16\u001b[0m \u001b[0;34m\u001b[0m\u001b[0m\n\u001b[1;32m     17\u001b[0m         \u001b[0;32mfor\u001b[0m \u001b[0mstage\u001b[0m \u001b[0;32min\u001b[0m \u001b[0mself\u001b[0m\u001b[0;34m.\u001b[0m\u001b[0mstages\u001b[0m\u001b[0;34m:\u001b[0m\u001b[0;34m\u001b[0m\u001b[0;34m\u001b[0m\u001b[0m\n\u001b[0;32m---> 18\u001b[0;31m             \u001b[0muser_repr\u001b[0m\u001b[0;34m,\u001b[0m \u001b[0mresult\u001b[0m \u001b[0;34m=\u001b[0m \u001b[0mstage\u001b[0m\u001b[0;34m.\u001b[0m\u001b[0mrun\u001b[0m\u001b[0;34m(\u001b[0m\u001b[0muser_id\u001b[0m\u001b[0;34m,\u001b[0m \u001b[0muser_repr\u001b[0m\u001b[0;34m,\u001b[0m \u001b[0mresult\u001b[0m\u001b[0;34m)\u001b[0m\u001b[0;34m\u001b[0m\u001b[0;34m\u001b[0m\u001b[0m\n\u001b[0m\u001b[1;32m     19\u001b[0m \u001b[0;34m\u001b[0m\u001b[0m\n\u001b[1;32m     20\u001b[0m         \u001b[0;32mreturn\u001b[0m \u001b[0mresult\u001b[0m\u001b[0;34m\u001b[0m\u001b[0;34m\u001b[0m\u001b[0m\n",
      "\u001b[0;32m~/Projects/practicalrecs-examples/practicalrecs_examples/ann_search.py\u001b[0m in \u001b[0;36mrun\u001b[0;34m(self, user_id, user_embeddings, candidates)\u001b[0m\n\u001b[1;32m     20\u001b[0m \u001b[0;34m\u001b[0m\u001b[0m\n\u001b[1;32m     21\u001b[0m         \u001b[0;32mif\u001b[0m \u001b[0;32mnot\u001b[0m \u001b[0muser_embeddings\u001b[0m\u001b[0;34m.\u001b[0m\u001b[0misnan\u001b[0m\u001b[0;34m(\u001b[0m\u001b[0;34m)\u001b[0m\u001b[0;34m.\u001b[0m\u001b[0many\u001b[0m\u001b[0;34m(\u001b[0m\u001b[0;34m)\u001b[0m\u001b[0;34m:\u001b[0m\u001b[0;34m\u001b[0m\u001b[0;34m\u001b[0m\u001b[0m\n\u001b[0;32m---> 22\u001b[0;31m             _, neighbor_indices = self.index.search(\n\u001b[0m\u001b[1;32m     23\u001b[0m                 \u001b[0mnp\u001b[0m\u001b[0;34m.\u001b[0m\u001b[0marray\u001b[0m\u001b[0;34m(\u001b[0m\u001b[0muser_embeddings\u001b[0m\u001b[0;34m.\u001b[0m\u001b[0mcpu\u001b[0m\u001b[0;34m(\u001b[0m\u001b[0;34m)\u001b[0m\u001b[0;34m)\u001b[0m\u001b[0;34m,\u001b[0m \u001b[0mnum_candidates\u001b[0m\u001b[0;34m\u001b[0m\u001b[0;34m\u001b[0m\u001b[0m\n\u001b[1;32m     24\u001b[0m             )\n",
      "\u001b[0;32m~/.pyenv/versions/3.8.3/envs/practicalrecs-examples/lib/python3.8/site-packages/faiss/__init__.py\u001b[0m in \u001b[0;36mreplacement_search\u001b[0;34m(self, x, k)\u001b[0m\n\u001b[1;32m    125\u001b[0m \u001b[0;34m\u001b[0m\u001b[0m\n\u001b[1;32m    126\u001b[0m     \u001b[0;32mdef\u001b[0m \u001b[0mreplacement_search\u001b[0m\u001b[0;34m(\u001b[0m\u001b[0mself\u001b[0m\u001b[0;34m,\u001b[0m \u001b[0mx\u001b[0m\u001b[0;34m,\u001b[0m \u001b[0mk\u001b[0m\u001b[0;34m)\u001b[0m\u001b[0;34m:\u001b[0m\u001b[0;34m\u001b[0m\u001b[0;34m\u001b[0m\u001b[0m\n\u001b[0;32m--> 127\u001b[0;31m         \u001b[0mn\u001b[0m\u001b[0;34m,\u001b[0m \u001b[0md\u001b[0m \u001b[0;34m=\u001b[0m \u001b[0mx\u001b[0m\u001b[0;34m.\u001b[0m\u001b[0mshape\u001b[0m\u001b[0;34m\u001b[0m\u001b[0;34m\u001b[0m\u001b[0m\n\u001b[0m\u001b[1;32m    128\u001b[0m         \u001b[0;32massert\u001b[0m \u001b[0md\u001b[0m \u001b[0;34m==\u001b[0m \u001b[0mself\u001b[0m\u001b[0;34m.\u001b[0m\u001b[0md\u001b[0m\u001b[0;34m\u001b[0m\u001b[0;34m\u001b[0m\u001b[0m\n\u001b[1;32m    129\u001b[0m         \u001b[0mdistances\u001b[0m \u001b[0;34m=\u001b[0m \u001b[0mnp\u001b[0m\u001b[0;34m.\u001b[0m\u001b[0mempty\u001b[0m\u001b[0;34m(\u001b[0m\u001b[0;34m(\u001b[0m\u001b[0mn\u001b[0m\u001b[0;34m,\u001b[0m \u001b[0mk\u001b[0m\u001b[0;34m)\u001b[0m\u001b[0;34m,\u001b[0m \u001b[0mdtype\u001b[0m\u001b[0;34m=\u001b[0m\u001b[0mnp\u001b[0m\u001b[0;34m.\u001b[0m\u001b[0mfloat32\u001b[0m\u001b[0;34m)\u001b[0m\u001b[0;34m\u001b[0m\u001b[0;34m\u001b[0m\u001b[0m\n",
      "\u001b[0;31mValueError\u001b[0m: not enough values to unpack (expected 2, got 1)"
     ]
    }
   ],
   "source": [
    "items_exact_ideal_metrics = model.compute_validation_metrics(\n",
    "    tqdm(val_dataloader),\n",
    "    pipeline_fn(items_exact_ideal_retrieval)\n",
    ")\n",
    "\n",
    "print(f\"\\nPrecision: {items_exact_ideal_metrics['precision']:.4f}\")\n",
    "print(f\"Recall: {items_exact_ideal_metrics['recall']:.4f}\")\n",
    "print(f\"NDCG: {items_exact_ideal_metrics['ndcg']:.4f}\")"
   ]
  },
  {
   "cell_type": "code",
   "execution_count": null,
   "metadata": {},
   "outputs": [],
   "source": [
    "# TODO: Item embeddings, exact NN search, idealized results\n",
    "# TODO: Item embeddings, exact NN search, no idealization\n",
    "# TODO: Item embeddings, approx NN search, no idealization"
   ]
  },
  {
   "cell_type": "code",
   "execution_count": null,
   "metadata": {},
   "outputs": [],
   "source": [
    "# Parts to idealize:\n",
    "# - Ideal embeddings? -> always return correct items\n",
    "# - Ideal search -> always find closest embeddings\n",
    "# - Ideal user representations -> always match learned user representations\n",
    "# - Ideal user representations, v2 -> always search near interacted items"
   ]
  },
  {
   "cell_type": "code",
   "execution_count": null,
   "metadata": {},
   "outputs": [],
   "source": [
    "# Just for fun: ANN search with averaged user embedding AND item embeddings"
   ]
  },
  {
   "cell_type": "markdown",
   "metadata": {},
   "source": [
    "### Ideal Filtering"
   ]
  },
  {
   "cell_type": "code",
   "execution_count": null,
   "metadata": {},
   "outputs": [],
   "source": [
    "# TODO: Make an idealized filtering stage that filters out exactly the right items"
   ]
  },
  {
   "cell_type": "code",
   "execution_count": null,
   "metadata": {},
   "outputs": [],
   "source": [
    "ideal_filtering_stages = [\n",
    "    # Retrieval\n",
    "    UserAvgEmbeddingFetcher(model),\n",
    "    ANNSearch(approx_index, args.num_items, num_candidates),\n",
    "    # Filtering\n",
    "#     BloomFilter(bloom_filters),\n",
    "    CandidatePadding(args.num_items, num_candidates),\n",
    "    # Scoring\n",
    "    MatrixFactorizationScoring(model),\n",
    "    # Ordering\n",
    "    DitheredOrdering(num_recs, epsilon=1.5),\n",
    "]\n",
    "\n",
    "ideal_filtering = RecsPipeline(*ideal_filtering_stages)"
   ]
  },
  {
   "cell_type": "code",
   "execution_count": null,
   "metadata": {},
   "outputs": [],
   "source": [
    "ideal_filtering_metrics = model.compute_validation_metrics(\n",
    "    tqdm(val_dataloader),\n",
    "    pipeline_fn(ideal_filtering)\n",
    ")\n",
    "\n",
    "print(f\"\\nPrecision: {ideal_filtering_metrics['precision']:.4f}\")\n",
    "print(f\"Recall: {ideal_filtering_metrics['recall']:.4f}\")\n",
    "print(f\"NDCG: {ideal_filtering_metrics['ndcg']:.4f}\")"
   ]
  },
  {
   "cell_type": "markdown",
   "metadata": {},
   "source": [
    "### Ideal Scoring"
   ]
  },
  {
   "cell_type": "code",
   "execution_count": null,
   "metadata": {},
   "outputs": [],
   "source": [
    "def ideal_scoring(user_ids, num_items):\n",
    "    k = 250\n",
    "    dithering_eps = 1.5\n",
    "    \n",
    "    user_scores = []\n",
    "    for user_id in user_ids:\n",
    "        interactions = train_dataloader.dataset[user_id][\"interactions\"].coalesce()\n",
    "        item_ids = interactions.indices()[1]\n",
    "        \n",
    "        item_embeddings, user_embedding, user_avg_embedding = \\\n",
    "                fetch_embeddings(model, user_id, item_ids)\n",
    "        \n",
    "        candidates = user_embedding_candidates(approx_index, user_avg_embedding, k, args.num_items)\n",
    "        filtered = filter_candidates(user_id.cpu().item(), candidates)\n",
    "        raw_scores = score_candidates(model, user_avg_embedding, filtered, k, args.num_items)\n",
    "        \n",
    "        # Move interacted items from validation set to the top\n",
    "        val_interactions = val_dataloader.dataset[user_id][\"interactions\"].coalesce()\n",
    "        val_item_ids = val_interactions.indices()[1]\n",
    "        boosted_scores = raw_scores.clone().detach()\n",
    "        boosted_scores[val_item_ids] += 10.0\n",
    "        \n",
    "        scores = dither_scores(boosted_scores, k, dithering_eps)\n",
    "        \n",
    "        user_scores.append(scores)\n",
    "        \n",
    "    return th.stack(user_scores)"
   ]
  },
  {
   "cell_type": "code",
   "execution_count": null,
   "metadata": {},
   "outputs": [],
   "source": [
    "ideal_scoring_metrics = model.compute_validation_metrics(\n",
    "    tqdm(val_dataloader),\n",
    "    ideal_scoring\n",
    ")\n",
    "\n",
    "print(f\"\\nPrecision: {ideal_scoring_metrics['precision']:.4f}\")\n",
    "print(f\"Recall: {ideal_scoring_metrics['recall']:.4f}\")\n",
    "print(f\"NDCG: {ideal_scoring_metrics['ndcg']:.4f}\")"
   ]
  },
  {
   "cell_type": "markdown",
   "metadata": {},
   "source": [
    "### Ideal Ordering"
   ]
  },
  {
   "cell_type": "code",
   "execution_count": null,
   "metadata": {},
   "outputs": [],
   "source": [
    "def ideal_ordering(user_ids, num_items):\n",
    "    k = 250\n",
    "    dithering_eps = 1.5\n",
    "    \n",
    "    user_scores = []\n",
    "    for user_id in user_ids:\n",
    "        interactions = train_dataloader.dataset[user_id][\"interactions\"].coalesce()\n",
    "        item_ids = interactions.indices()[1]\n",
    "        \n",
    "        item_embeddings, user_embedding, user_avg_embedding = \\\n",
    "                fetch_embeddings(model, user_id, item_ids)\n",
    "        \n",
    "        candidates = user_embedding_candidates(approx_index, user_avg_embedding, k, args.num_items)\n",
    "        filtered = filter_candidates(user_id.cpu().item(), candidates)\n",
    "        raw_scores = score_candidates(model, user_avg_embedding, filtered, k, args.num_items)\n",
    "#         scores = dither_scores(raw_scores, k, dithering_eps)\n",
    "        \n",
    "        user_scores.append(raw_scores)\n",
    "        \n",
    "    return th.stack(user_scores)"
   ]
  },
  {
   "cell_type": "code",
   "execution_count": null,
   "metadata": {},
   "outputs": [],
   "source": [
    "ideal_ordering_metrics = model.compute_validation_metrics(\n",
    "    tqdm(val_dataloader),\n",
    "    ideal_ordering\n",
    ")\n",
    "\n",
    "print(f\"\\nPrecision: {ideal_ordering_metrics['precision']:.4f}\")\n",
    "print(f\"Recall: {ideal_ordering_metrics['recall']:.4f}\")\n",
    "print(f\"NDCG: {ideal_ordering_metrics['ndcg']:.4f}\")"
   ]
  },
  {
   "cell_type": "markdown",
   "metadata": {},
   "source": [
    "### Improved Retrieval"
   ]
  },
  {
   "cell_type": "code",
   "execution_count": null,
   "metadata": {},
   "outputs": [],
   "source": [
    "def item_embedding_candidates(index, item_embeddings, k, num_items):\n",
    "    if len(item_embeddings) > 0:\n",
    "        neighbors_per = max(1, k // max(1,len(item_embeddings)))\n",
    "        neighbor_scores, neighbor_indices = index.search(np.array(item_embeddings.cpu()), neighbors_per)\n",
    "    else:\n",
    "        neighbor_indices = th.randint(num_items, (k,))\n",
    "        \n",
    "    return th.tensor(neighbor_indices).flatten().unique()"
   ]
  },
  {
   "cell_type": "code",
   "execution_count": null,
   "metadata": {},
   "outputs": [],
   "source": [
    "def item_based_retrieval(user_ids, num_items):\n",
    "    k = 250\n",
    "    dithering_eps = 1.5\n",
    "    \n",
    "    user_scores = []\n",
    "    for user_id in user_ids:  \n",
    "        interactions = train_dataloader.dataset[user_id][\"interactions\"].coalesce()\n",
    "        item_ids = interactions.indices()[1]\n",
    "        \n",
    "        item_embeddings, user_embedding, user_avg_embedding = \\\n",
    "                fetch_embeddings(model, user_id, item_ids)\n",
    "        \n",
    "        candidates = item_embedding_candidates(approx_index, item_embeddings, k, args.num_items)\n",
    "        filtered = filter_candidates(user_id.cpu().item(), candidates)\n",
    "        raw_scores = score_candidates(model, user_avg_embedding, filtered, k, args.num_items)\n",
    "        scores = dither_scores(raw_scores, k, dithering_eps)\n",
    "        \n",
    "        user_scores.append(scores)\n",
    "        \n",
    "    return th.stack(user_scores)"
   ]
  },
  {
   "cell_type": "code",
   "execution_count": null,
   "metadata": {},
   "outputs": [],
   "source": [
    "item_based_retrieval_metrics = model.compute_validation_metrics(\n",
    "    tqdm(val_dataloader),\n",
    "    item_based_retrieval\n",
    ")\n",
    "\n",
    "print(f\"\\nPrecision: {item_based_retrieval_metrics['precision']:.4f}\")\n",
    "print(f\"Recall: {item_based_retrieval_metrics['recall']:.4f}\")\n",
    "print(f\"NDCG: {item_based_retrieval_metrics['ndcg']:.4f}\")"
   ]
  },
  {
   "cell_type": "code",
   "execution_count": null,
   "metadata": {},
   "outputs": [],
   "source": [
    "def item_based_retrieval_ideal_filtering(user_ids, num_items):\n",
    "    k = 250\n",
    "    dithering_eps = 1.5\n",
    "    \n",
    "    user_scores = []\n",
    "    for user_id in user_ids:   \n",
    "        interactions = train_dataloader.dataset[user_id][\"interactions\"].coalesce()\n",
    "        item_ids = interactions.indices()[1]\n",
    "        \n",
    "        item_embeddings, user_embedding, user_avg_embedding = \\\n",
    "                fetch_embeddings(model, user_id, item_ids)\n",
    "        \n",
    "        candidates = item_embedding_candidates(approx_index, item_embeddings, k, args.num_items)\n",
    "#         filtered = filter_candidates(user_id.cpu().item(), candidates)\n",
    "        raw_scores = score_candidates(model, user_avg_embedding, candidates, k, args.num_items)\n",
    "        scores = dither_scores(raw_scores, k, dithering_eps)\n",
    "        \n",
    "        user_scores.append(scores)\n",
    "        \n",
    "    return th.stack(user_scores)"
   ]
  },
  {
   "cell_type": "code",
   "execution_count": null,
   "metadata": {},
   "outputs": [],
   "source": [
    "item_based_retrieval_ideal_filtering_metrics = model.compute_validation_metrics(\n",
    "    tqdm(val_dataloader),\n",
    "    item_based_retrieval_ideal_filtering\n",
    ")\n",
    "\n",
    "print(f\"\\nPrecision: {item_based_retrieval_ideal_filtering_metrics['precision']:.4f}\")\n",
    "print(f\"Recall: {item_based_retrieval_ideal_filtering_metrics['recall']:.4f}\")\n",
    "print(f\"NDCG: {item_based_retrieval_ideal_filtering_metrics['ndcg']:.4f}\")"
   ]
  },
  {
   "cell_type": "code",
   "execution_count": null,
   "metadata": {},
   "outputs": [],
   "source": [
    "def item_based_retrieval_ideal_scoring(user_ids, num_items):\n",
    "    k = 250\n",
    "    dithering_eps = 1.5\n",
    "    \n",
    "    user_scores = []\n",
    "    for user_id in user_ids:\n",
    "        interactions = train_dataloader.dataset[user_id][\"interactions\"].coalesce()\n",
    "        item_ids = interactions.indices()[1]\n",
    "        \n",
    "        item_embeddings, user_embedding, user_avg_embedding = \\\n",
    "                fetch_embeddings(model, user_id, item_ids)\n",
    "        \n",
    "        candidates = item_embedding_candidates(approx_index, item_embeddings, k, args.num_items)\n",
    "        filtered = filter_candidates(user_id.cpu().item(), candidates)\n",
    "        raw_scores = score_candidates(model, user_avg_embedding, filtered, k, args.num_items)\n",
    "        scores = dither_scores(raw_scores, k, dithering_eps)\n",
    "        \n",
    "        # Move interacted items from validation set to the top\n",
    "        val_interactions = val_dataloader.dataset[user_id][\"interactions\"].coalesce()\n",
    "        val_item_ids = val_interactions.indices()[1]\n",
    "        boosted_scores = raw_scores.clone().detach()\n",
    "        boosted_scores[val_item_ids] += 10.0\n",
    "        \n",
    "        user_scores.append(scores)\n",
    "        \n",
    "    return th.stack(user_scores)"
   ]
  },
  {
   "cell_type": "code",
   "execution_count": null,
   "metadata": {},
   "outputs": [],
   "source": [
    "item_based_retrieval_ideal_scoring_metrics = model.compute_validation_metrics(\n",
    "    tqdm(val_dataloader),\n",
    "    item_based_retrieval_ideal_scoring\n",
    ")\n",
    "\n",
    "print(f\"\\nPrecision: {item_based_retrieval_ideal_scoring_metrics['precision']:.4f}\")\n",
    "print(f\"Recall: {item_based_retrieval_ideal_scoring_metrics['recall']:.4f}\")\n",
    "print(f\"NDCG: {item_based_retrieval_ideal_scoring_metrics['ndcg']:.4f}\")"
   ]
  },
  {
   "cell_type": "code",
   "execution_count": null,
   "metadata": {},
   "outputs": [],
   "source": [
    "def item_based_retrieval_ideal_ordering(user_ids, num_items):\n",
    "    k = 250\n",
    "    dithering_eps = 1.5\n",
    "    \n",
    "    user_scores = []\n",
    "    for user_id in user_ids:\n",
    "        interactions = train_dataloader.dataset[user_id][\"interactions\"].coalesce()\n",
    "        item_ids = interactions.indices()[1]\n",
    "        \n",
    "        item_embeddings, user_embedding, user_avg_embedding = \\\n",
    "                fetch_embeddings(model, user_id, item_ids)\n",
    "        \n",
    "        candidates = item_embedding_candidates(approx_index, item_embeddings, k, args.num_items)\n",
    "        filtered = filter_candidates(user_id.cpu().item(), candidates)\n",
    "        raw_scores = score_candidates(model, user_avg_embedding, filtered, k, args.num_items)\n",
    "#         scores = dither_scores(raw_scores, k, dithering_eps)\n",
    "        \n",
    "        user_scores.append(raw_scores)\n",
    "        \n",
    "    return th.stack(user_scores)"
   ]
  },
  {
   "cell_type": "code",
   "execution_count": null,
   "metadata": {},
   "outputs": [],
   "source": [
    "item_based_retrieval_ideal_ordering_metrics = model.compute_validation_metrics(\n",
    "    tqdm(val_dataloader),\n",
    "    item_based_retrieval_ideal_ordering\n",
    ")\n",
    "\n",
    "print(f\"\\nPrecision: {item_based_retrieval_ideal_ordering_metrics['precision']:.4f}\")\n",
    "print(f\"Recall: {item_based_retrieval_ideal_ordering_metrics['recall']:.4f}\")\n",
    "print(f\"NDCG: {item_based_retrieval_ideal_ordering_metrics['ndcg']:.4f}\")"
   ]
  },
  {
   "cell_type": "markdown",
   "metadata": {},
   "source": [
    "### Improved Filtering"
   ]
  },
  {
   "cell_type": "code",
   "execution_count": null,
   "metadata": {},
   "outputs": [],
   "source": [
    "# TODO: Try out better Bloom filter parameters"
   ]
  },
  {
   "cell_type": "markdown",
   "metadata": {},
   "source": [
    "### Improved Scoring"
   ]
  },
  {
   "cell_type": "code",
   "execution_count": null,
   "metadata": {},
   "outputs": [],
   "source": [
    "# TODO: Try out using the learned user embeddings for scoring"
   ]
  },
  {
   "cell_type": "markdown",
   "metadata": {},
   "source": [
    "### Improved Ordering"
   ]
  },
  {
   "cell_type": "code",
   "execution_count": null,
   "metadata": {},
   "outputs": [],
   "source": [
    "# TODO: Try reducing the dithering eps"
   ]
  }
 ],
 "metadata": {
  "kernelspec": {
   "display_name": "Python 3",
   "language": "python",
   "name": "python3"
  },
  "language_info": {
   "codemirror_mode": {
    "name": "ipython",
    "version": 3
   },
   "file_extension": ".py",
   "mimetype": "text/x-python",
   "name": "python",
   "nbconvert_exporter": "python",
   "pygments_lexer": "ipython3",
   "version": "3.8.3"
  }
 },
 "nbformat": 4,
 "nbformat_minor": 4
}
