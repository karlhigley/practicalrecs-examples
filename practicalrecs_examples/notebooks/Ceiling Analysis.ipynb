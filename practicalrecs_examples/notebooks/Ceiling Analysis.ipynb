{
 "cells": [
  {
   "cell_type": "code",
   "execution_count": 1,
   "metadata": {},
   "outputs": [],
   "source": [
    "%load_ext autoreload\n",
    "%autoreload 2"
   ]
  },
  {
   "cell_type": "code",
   "execution_count": 2,
   "metadata": {},
   "outputs": [],
   "source": [
    "import pathlib\n",
    "import time\n",
    "from collections import defaultdict\n",
    "\n",
    "import faiss\n",
    "import matplotlib.pyplot as plt\n",
    "import numpy as np\n",
    "import pybloomfilter as pbf\n",
    "import torch as th\n",
    "from pytorch_lightning import seed_everything\n",
    "from ranking_metrics_torch.cumulative_gain import ndcg_at\n",
    "from ranking_metrics_torch.precision_recall import precision_at, recall_at\n",
    "from torch_factorization_models.movielens import MovielensDataModule\n",
    "from tqdm import tqdm\n",
    "\n",
    "from practicalrecs_examples.ann_search import *\n",
    "from practicalrecs_examples.dithering import *\n",
    "from practicalrecs_examples.filtering import *\n",
    "from practicalrecs_examples.matrix_factorization import *\n",
    "from practicalrecs_examples.notebooks.utils import *\n",
    "from practicalrecs_examples.pipeline import *"
   ]
  },
  {
   "cell_type": "code",
   "execution_count": 3,
   "metadata": {},
   "outputs": [],
   "source": [
    "# Useful for troubleshooting CUDA errors\n",
    "# import os\n",
    "# os.environ['CUDA_LAUNCH_BLOCKING'] = \"1\""
   ]
  },
  {
   "cell_type": "code",
   "execution_count": 4,
   "metadata": {},
   "outputs": [],
   "source": [
    "# same seed used to create splits in training\n",
    "random_seed = seed_everything(42)  "
   ]
  },
  {
   "cell_type": "code",
   "execution_count": 5,
   "metadata": {},
   "outputs": [],
   "source": [
    "# CUDA device id\n",
    "# gpu_id = th.cuda.device_count() - 1\n",
    "gpu_id = 1\n",
    "device_id = f\"cuda:{gpu_id}\"\n",
    "\n",
    "if th.cuda.is_available():\n",
    "    gpu_res = faiss.StandardGpuResources()"
   ]
  },
  {
   "cell_type": "code",
   "execution_count": 6,
   "metadata": {},
   "outputs": [],
   "source": [
    "# Set default parameters\n",
    "num_candidates = 250\n",
    "num_recs = 100\n",
    "dithering_eps = 3.0"
   ]
  },
  {
   "cell_type": "code",
   "execution_count": 7,
   "metadata": {},
   "outputs": [],
   "source": [
    "# Registries for pipelines and their elements\n",
    "models = {}\n",
    "bloom_filters = {}\n",
    "ann_indices = defaultdict(dict)\n",
    "pipelines = defaultdict(dict)\n",
    "builders = defaultdict(dict)\n",
    "metrics = defaultdict(dict)\n",
    "stages = defaultdict(dict)"
   ]
  },
  {
   "cell_type": "markdown",
   "metadata": {},
   "source": [
    "### Load the dataset"
   ]
  },
  {
   "cell_type": "code",
   "execution_count": 8,
   "metadata": {},
   "outputs": [],
   "source": [
    "movielens_module = MovielensDataModule(\"../datasets/ml-25m/\", batch_size=512)\n",
    "movielens_module.setup()\n",
    "\n",
    "if th.cuda.is_available():\n",
    "    movielens_module.dataset.to_(device=device_id)"
   ]
  },
  {
   "cell_type": "code",
   "execution_count": 9,
   "metadata": {},
   "outputs": [],
   "source": [
    "val_dataloader = movielens_module.val_dataloader(by_user=True)"
   ]
  },
  {
   "cell_type": "code",
   "execution_count": 10,
   "metadata": {},
   "outputs": [],
   "source": [
    "train_dataloader = movielens_module.train_dataloader(by_user=True)"
   ]
  },
  {
   "cell_type": "markdown",
   "metadata": {},
   "source": [
    "### Build Bloom Filters"
   ]
  },
  {
   "cell_type": "code",
   "execution_count": 11,
   "metadata": {},
   "outputs": [
    {
     "name": "stderr",
     "output_type": "stream",
     "text": [
      "100%|██████████| 162342/162342 [00:47<00:00, 3448.72it/s]\n"
     ]
    }
   ],
   "source": [
    "bloom_filters[\"cap10-fp0.1\"] = build_bloom_filters(\n",
    "    tqdm(train_dataloader.dataset),\n",
    "    expected_items=10,\n",
    "    fp_rate=0.1\n",
    ")"
   ]
  },
  {
   "cell_type": "markdown",
   "metadata": {},
   "source": [
    "### Evaluate Model With Binary Cross-Entropy Loss"
   ]
  },
  {
   "cell_type": "markdown",
   "metadata": {},
   "source": [
    "#### Load the model"
   ]
  },
  {
   "cell_type": "code",
   "execution_count": 12,
   "metadata": {},
   "outputs": [],
   "source": [
    "models[\"bce\"] = load_model(\"../models/celestial-bee-469-bce.pt\")\n",
    "\n",
    "if th.cuda.is_available():\n",
    "    models[\"bce\"] = models[\"bce\"].cuda(gpu_id)"
   ]
  },
  {
   "cell_type": "code",
   "execution_count": 13,
   "metadata": {},
   "outputs": [],
   "source": [
    "num_users = models[\"bce\"].hparams.num_users\n",
    "num_items = models[\"bce\"].hparams.num_items"
   ]
  },
  {
   "cell_type": "markdown",
   "metadata": {},
   "source": [
    "#### Compute Raw Model-Only Metrics"
   ]
  },
  {
   "cell_type": "code",
   "execution_count": 14,
   "metadata": {},
   "outputs": [
    {
     "name": "stderr",
     "output_type": "stream",
     "text": [
      "100%|██████████| 318/318 [01:34<00:00,  3.36it/s]\n"
     ]
    }
   ],
   "source": [
    "model_metrics = models[\"bce\"].compute_validation_metrics(\n",
    "    models[\"bce\"].eval_predict,\n",
    "    tqdm(val_dataloader),\n",
    "    num_recs\n",
    ")"
   ]
  },
  {
   "cell_type": "code",
   "execution_count": 15,
   "metadata": {
    "scrolled": true
   },
   "outputs": [
    {
     "name": "stdout",
     "output_type": "stream",
     "text": [
      "Precision: 0.0283\n",
      "Recall: 0.4900\n",
      "NDCG: 0.2237\n"
     ]
    }
   ],
   "source": [
    "print_metrics(model_metrics)"
   ]
  },
  {
   "cell_type": "markdown",
   "metadata": {},
   "source": [
    "#### Build Nearest Neighbor Search Indices"
   ]
  },
  {
   "cell_type": "code",
   "execution_count": 16,
   "metadata": {},
   "outputs": [],
   "source": [
    "dim = models[\"bce\"].hparams.embedding_dim\n",
    "bce_item_vectors = np.array(models[\"bce\"].item_embeddings.weight.cpu().data)"
   ]
  },
  {
   "cell_type": "code",
   "execution_count": 17,
   "metadata": {},
   "outputs": [],
   "source": [
    "ann_indices[\"bce\"][\"exact\"] = build_nn_search_index(bce_item_vectors, dim, \"Flat\")"
   ]
  },
  {
   "cell_type": "code",
   "execution_count": 18,
   "metadata": {},
   "outputs": [],
   "source": [
    "ann_indices[\"bce\"][\"approx\"] = build_nn_search_index(\n",
    "    bce_item_vectors, dim, \"IVF1024,PQ32\", nprobe=30\n",
    ")"
   ]
  },
  {
   "cell_type": "code",
   "execution_count": 19,
   "metadata": {},
   "outputs": [],
   "source": [
    "if th.cuda.is_available():\n",
    "    cloner_options = faiss.GpuClonerOptions()\n",
    "    ann_indices[\"bce\"][\"exact\"] = faiss.index_cpu_to_gpu(gpu_res, gpu_id, ann_indices[\"bce\"][\"exact\"], cloner_options)\n",
    "    ann_indices[\"bce\"][\"approx\"] = faiss.index_cpu_to_gpu(gpu_res, gpu_id, ann_indices[\"bce\"][\"approx\"], cloner_options)"
   ]
  },
  {
   "cell_type": "markdown",
   "metadata": {},
   "source": [
    "#### Evaluate The End-To-End Pipeline"
   ]
  },
  {
   "cell_type": "code",
   "execution_count": 20,
   "metadata": {},
   "outputs": [],
   "source": [
    "builders[\"bce\"][\"base\"] = RecsPipelineBuilder(\n",
    "    defaults = RecsPipelineStages(\n",
    "        retrieval = [\n",
    "            UserAvgEmbeddingFetcher(models[\"bce\"]),\n",
    "            ANNSearch(ann_indices[\"bce\"][\"approx\"], num_items, num_candidates),\n",
    "        ],\n",
    "        filtering = [\n",
    "            BloomFilter(bloom_filters[\"cap10-fp0.1\"]),\n",
    "            CandidatePadding(num_items, num_candidates),\n",
    "        ],\n",
    "        scoring = [\n",
    "            # Re-fetching user avg embeddings keeps retrieval changes from affecting scoring\n",
    "            UserAvgEmbeddingFetcher(models[\"bce\"]),\n",
    "            MatrixFactorizationScoring(models[\"bce\"]),\n",
    "        ],\n",
    "        ordering = [\n",
    "            DitheredOrdering(num_candidates, num_recs, epsilon=dithering_eps),\n",
    "        ]\n",
    "    )\n",
    ")\n",
    "\n",
    "pipelines[\"bce\"][\"base\"] = builders[\"bce\"][\"base\"].build()"
   ]
  },
  {
   "cell_type": "code",
   "execution_count": 21,
   "metadata": {
    "scrolled": true
   },
   "outputs": [
    {
     "name": "stderr",
     "output_type": "stream",
     "text": [
      "100%|██████████| 318/318 [05:31<00:00,  1.04s/it]\n"
     ]
    }
   ],
   "source": [
    "metrics[\"bce\"][\"base\"] = models[\"bce\"].compute_validation_metrics(\n",
    "    build_prediction_fn(pipelines[\"bce\"][\"base\"], train_dataloader),\n",
    "    tqdm(val_dataloader),\n",
    "    num_recs\n",
    ")"
   ]
  },
  {
   "cell_type": "code",
   "execution_count": 22,
   "metadata": {
    "scrolled": true
   },
   "outputs": [
    {
     "name": "stdout",
     "output_type": "stream",
     "text": [
      "Precision: 0.0059\n",
      "Recall: 0.1289\n",
      "NDCG: 0.1101\n"
     ]
    }
   ],
   "source": [
    "print_metrics(metrics[\"bce\"][\"base\"])"
   ]
  },
  {
   "cell_type": "code",
   "execution_count": 23,
   "metadata": {},
   "outputs": [
    {
     "data": {
      "text/plain": [
       "{1: {'FlatData': (4, 5528432),\n",
       "  'IVFLists': (2048, 1638528),\n",
       "  'Quantizer': (2, 65536),\n",
       "  'TemporaryMemoryBuffer': (1, 1610612736)}}"
      ]
     },
     "execution_count": 23,
     "metadata": {},
     "output_type": "execute_result"
    }
   ],
   "source": [
    "gpu_res.getMemoryInfo()"
   ]
  },
  {
   "cell_type": "code",
   "execution_count": 24,
   "metadata": {},
   "outputs": [],
   "source": [
    "# ann_indices[\"bce\"][\"exact\"].reset()\n",
    "# ann_indices[\"bce\"][\"approx\"].reset()"
   ]
  },
  {
   "cell_type": "code",
   "execution_count": 25,
   "metadata": {},
   "outputs": [],
   "source": [
    "# del ann_indices[\"bce\"]\n",
    "# del pipelines[\"bce\"]\n",
    "# del builders[\"bce\"]"
   ]
  },
  {
   "cell_type": "markdown",
   "metadata": {},
   "source": [
    "### Evaluate Idealized Everything"
   ]
  },
  {
   "cell_type": "code",
   "execution_count": 26,
   "metadata": {},
   "outputs": [],
   "source": [
    "pipelines[\"bce\"][\"ideal\"] = builders[\"bce\"][\"base\"].build(\n",
    "    overrides = RecsPipelineStages(\n",
    "        retrieval = [\n",
    "            UserEmbeddingFetcher(models[\"bce\"]),\n",
    "            IdealizedANNSearch(val_dataloader.dataset, ann_indices[\"bce\"][\"exact\"], num_items, num_candidates),\n",
    "        ],\n",
    "        filtering = [\n",
    "            IdealizedFilter(train_dataloader.dataset),\n",
    "            CandidatePadding(num_items, num_candidates),\n",
    "        ],\n",
    "        scoring = [\n",
    "            # Re-fetching user avg embeddings keeps retrieval changes from affecting scoring\n",
    "            UserAvgEmbeddingFetcher(models[\"bce\"]),\n",
    "            IdealizedMatrixFactorizationScoring(models[\"bce\"], val_dataloader.dataset),\n",
    "        ],\n",
    "        ordering = []\n",
    "    )\n",
    ")"
   ]
  },
  {
   "cell_type": "code",
   "execution_count": 27,
   "metadata": {},
   "outputs": [
    {
     "name": "stderr",
     "output_type": "stream",
     "text": [
      "  0%|          | 0/318 [00:00<?, ?it/s]/home/karl/Projects/practicalrecs-examples/practicalrecs_examples/filtering.py:60: UserWarning: To copy construct from a tensor, it is recommended to use sourceTensor.clone().detach() or sourceTensor.clone().detach().requires_grad_(True), rather than torch.tensor(sourceTensor).\n",
      "  candidates = th.tensor(user_recs.candidates, dtype=th.long)\n",
      "100%|██████████| 318/318 [06:05<00:00,  1.15s/it]\n"
     ]
    }
   ],
   "source": [
    "metrics[\"bce\"][\"ideal\"] = models[\"bce\"].compute_validation_metrics(\n",
    "    build_prediction_fn(pipelines[\"bce\"][\"ideal\"], train_dataloader),\n",
    "    tqdm(val_dataloader),\n",
    "    num_recs\n",
    ")"
   ]
  },
  {
   "cell_type": "code",
   "execution_count": 28,
   "metadata": {},
   "outputs": [
    {
     "name": "stdout",
     "output_type": "stream",
     "text": [
      "Precision: 0.0831\n",
      "Recall: 0.9996\n",
      "NDCG: 0.9999\n"
     ]
    }
   ],
   "source": [
    "print_metrics(metrics[\"bce\"][\"ideal\"])"
   ]
  },
  {
   "cell_type": "markdown",
   "metadata": {},
   "source": [
    "### Evaluate Idealized Retrieval"
   ]
  },
  {
   "cell_type": "markdown",
   "metadata": {},
   "source": [
    "#### Learned user embedding, exact NN search, idealized results"
   ]
  },
  {
   "cell_type": "code",
   "execution_count": 29,
   "metadata": {},
   "outputs": [],
   "source": [
    "stages[\"bce\"][\"ideal-retrieval\"] = RecsPipelineStages(\n",
    "    retrieval = [\n",
    "        UserEmbeddingFetcher(models[\"bce\"]),\n",
    "        IdealizedANNSearch(val_dataloader.dataset, ann_indices[\"bce\"][\"exact\"], num_items, num_candidates),\n",
    "    ]\n",
    ")\n",
    "\n",
    "pipelines[\"bce\"][\"ideal-retrieval\"] = builders[\"bce\"][\"base\"].build(\n",
    "    overrides = stages[\"bce\"][\"ideal-retrieval\"]\n",
    ")"
   ]
  },
  {
   "cell_type": "code",
   "execution_count": 30,
   "metadata": {},
   "outputs": [
    {
     "name": "stderr",
     "output_type": "stream",
     "text": [
      "100%|██████████| 318/318 [06:08<00:00,  1.16s/it]\n"
     ]
    }
   ],
   "source": [
    "metrics[\"bce\"][\"ideal-retrieval\"] = models[\"bce\"].compute_validation_metrics(\n",
    "    build_prediction_fn(pipelines[\"bce\"][\"ideal-retrieval\"], train_dataloader),\n",
    "    tqdm(val_dataloader),\n",
    "    num_recs\n",
    ")"
   ]
  },
  {
   "cell_type": "code",
   "execution_count": 31,
   "metadata": {},
   "outputs": [
    {
     "name": "stdout",
     "output_type": "stream",
     "text": [
      "Precision: 0.0164\n",
      "Recall: 0.3526\n",
      "NDCG: 0.1687\n"
     ]
    }
   ],
   "source": [
    "print_metrics(metrics[\"bce\"][\"ideal-retrieval\"])"
   ]
  },
  {
   "cell_type": "markdown",
   "metadata": {},
   "source": [
    "### Evaluate Idealized Filtering"
   ]
  },
  {
   "cell_type": "code",
   "execution_count": 32,
   "metadata": {},
   "outputs": [],
   "source": [
    "stages[\"bce\"][\"ideal-filtering\"] = RecsPipelineStages(\n",
    "    filtering = [\n",
    "        IdealizedFilter(train_dataloader.dataset),\n",
    "        CandidatePadding(num_items, num_candidates),\n",
    "    ]\n",
    ")\n",
    "\n",
    "pipelines[\"bce\"][\"ideal-filtering\"] = builders[\"bce\"][\"base\"].build(\n",
    "    overrides = stages[\"bce\"][\"ideal-filtering\"]\n",
    ")"
   ]
  },
  {
   "cell_type": "code",
   "execution_count": 33,
   "metadata": {},
   "outputs": [
    {
     "name": "stderr",
     "output_type": "stream",
     "text": [
      "100%|██████████| 318/318 [05:57<00:00,  1.12s/it]\n"
     ]
    }
   ],
   "source": [
    "metrics[\"bce\"][\"ideal-filtering\"] = models[\"bce\"].compute_validation_metrics(\n",
    "    build_prediction_fn(pipelines[\"bce\"][\"ideal-filtering\"], train_dataloader),\n",
    "    tqdm(val_dataloader),\n",
    "    num_recs\n",
    ")"
   ]
  },
  {
   "cell_type": "code",
   "execution_count": 34,
   "metadata": {},
   "outputs": [
    {
     "name": "stdout",
     "output_type": "stream",
     "text": [
      "Precision: 0.0111\n",
      "Recall: 0.1618\n",
      "NDCG: 0.1108\n"
     ]
    }
   ],
   "source": [
    "print_metrics(metrics[\"bce\"][\"ideal-filtering\"])"
   ]
  },
  {
   "cell_type": "markdown",
   "metadata": {},
   "source": [
    "### Evaluate Idealized Scoring"
   ]
  },
  {
   "cell_type": "code",
   "execution_count": 35,
   "metadata": {},
   "outputs": [],
   "source": [
    "stages[\"bce\"][\"ideal-scoring\"] = RecsPipelineStages(\n",
    "    scoring = [\n",
    "        # Re-fetching user avg embeddings keeps retrieval changes from affecting scoring\n",
    "        UserAvgEmbeddingFetcher(models[\"bce\"]),\n",
    "        IdealizedMatrixFactorizationScoring(models[\"bce\"], val_dataloader.dataset),\n",
    "    ]\n",
    ")\n",
    "\n",
    "pipelines[\"bce\"][\"ideal-scoring\"] = builders[\"bce\"][\"base\"].build(\n",
    "    overrides = stages[\"bce\"][\"ideal-filtering\"]\n",
    ")"
   ]
  },
  {
   "cell_type": "code",
   "execution_count": 36,
   "metadata": {},
   "outputs": [
    {
     "name": "stderr",
     "output_type": "stream",
     "text": [
      "100%|██████████| 318/318 [05:57<00:00,  1.12s/it]\n"
     ]
    }
   ],
   "source": [
    "metrics[\"bce\"][\"ideal-scoring\"] = models[\"bce\"].compute_validation_metrics(\n",
    "    build_prediction_fn(pipelines[\"bce\"][\"ideal-scoring\"], train_dataloader),\n",
    "    tqdm(val_dataloader),\n",
    "    num_recs\n",
    ")"
   ]
  },
  {
   "cell_type": "code",
   "execution_count": 37,
   "metadata": {},
   "outputs": [
    {
     "name": "stdout",
     "output_type": "stream",
     "text": [
      "Precision: 0.0111\n",
      "Recall: 0.1613\n",
      "NDCG: 0.1110\n"
     ]
    }
   ],
   "source": [
    "print_metrics(metrics[\"bce\"][\"ideal-scoring\"])"
   ]
  },
  {
   "cell_type": "markdown",
   "metadata": {},
   "source": [
    "### Evaluate Idealized Ordering"
   ]
  },
  {
   "cell_type": "markdown",
   "metadata": {},
   "source": [
    "#### Order descending by score (omitting dithering)"
   ]
  },
  {
   "cell_type": "code",
   "execution_count": 38,
   "metadata": {},
   "outputs": [],
   "source": [
    "stages[\"bce\"][\"ideal-ordering\"] = RecsPipelineStages(ordering = [])\n",
    "\n",
    "pipelines[\"bce\"][\"ideal-ordering\"] = builders[\"bce\"][\"base\"].build(\n",
    "    overrides = stages[\"bce\"][\"ideal-ordering\"]\n",
    ")"
   ]
  },
  {
   "cell_type": "code",
   "execution_count": 39,
   "metadata": {},
   "outputs": [
    {
     "name": "stderr",
     "output_type": "stream",
     "text": [
      "100%|██████████| 318/318 [04:31<00:00,  1.17it/s]\n"
     ]
    }
   ],
   "source": [
    "metrics[\"bce\"][\"ideal-ordering\"] = models[\"bce\"].compute_validation_metrics(\n",
    "    build_prediction_fn(pipelines[\"bce\"][\"ideal-ordering\"], train_dataloader),\n",
    "    tqdm(val_dataloader),\n",
    "    num_recs\n",
    ")"
   ]
  },
  {
   "cell_type": "code",
   "execution_count": 40,
   "metadata": {},
   "outputs": [
    {
     "name": "stdout",
     "output_type": "stream",
     "text": [
      "Precision: 0.0070\n",
      "Recall: 0.1504\n",
      "NDCG: 0.1161\n"
     ]
    }
   ],
   "source": [
    "print_metrics(metrics[\"bce\"][\"ideal-ordering\"])"
   ]
  },
  {
   "cell_type": "markdown",
   "metadata": {},
   "source": [
    "### Evaluate Improved Filtering"
   ]
  },
  {
   "cell_type": "code",
   "execution_count": 41,
   "metadata": {},
   "outputs": [],
   "source": [
    "def sweep_filter_params(model, builder, capacities, error_rates):\n",
    "    filter_metrics = {}\n",
    "\n",
    "    for error_rate in error_rates:\n",
    "        metrics = []\n",
    "\n",
    "        for capacity in capacities:\n",
    "            filters = build_bloom_filters(\n",
    "                tqdm(train_dataloader.dataset),\n",
    "                expected_items=capacity,\n",
    "                fp_rate=error_rate\n",
    "            )\n",
    "\n",
    "            stages = RecsPipelineStages(\n",
    "                filtering = [\n",
    "                    BloomFilter(filters),\n",
    "                    CandidatePadding(num_items, num_candidates),\n",
    "                ]\n",
    "            )\n",
    "\n",
    "            pipeline = builder.build(overrides=stages)\n",
    "\n",
    "            m = model.compute_validation_metrics(\n",
    "                build_prediction_fn(pipeline, train_dataloader),\n",
    "                tqdm(val_dataloader),\n",
    "                num_recs\n",
    "            )\n",
    "            metrics.append((capacity, m))\n",
    "        filter_metrics[error_rate] = metrics\n",
    "        \n",
    "    return filter_metrics"
   ]
  },
  {
   "cell_type": "code",
   "execution_count": 42,
   "metadata": {},
   "outputs": [
    {
     "name": "stderr",
     "output_type": "stream",
     "text": [
      "100%|██████████| 162342/162342 [00:48<00:00, 3371.21it/s]\n",
      "100%|██████████| 318/318 [05:39<00:00,  1.07s/it]\n",
      "100%|██████████| 162342/162342 [00:48<00:00, 3340.15it/s]\n",
      "100%|██████████| 318/318 [05:37<00:00,  1.06s/it]\n",
      "100%|██████████| 162342/162342 [00:48<00:00, 3353.65it/s]\n",
      "100%|██████████| 318/318 [05:38<00:00,  1.06s/it]\n",
      "100%|██████████| 162342/162342 [00:48<00:00, 3327.99it/s]\n",
      "100%|██████████| 318/318 [05:39<00:00,  1.07s/it]\n",
      "100%|██████████| 162342/162342 [00:48<00:00, 3332.62it/s]\n",
      "100%|██████████| 318/318 [05:40<00:00,  1.07s/it]\n",
      "100%|██████████| 162342/162342 [00:50<00:00, 3229.03it/s]\n",
      "100%|██████████| 318/318 [05:41<00:00,  1.07s/it]\n",
      "100%|██████████| 162342/162342 [00:49<00:00, 3289.12it/s]\n",
      "100%|██████████| 318/318 [05:42<00:00,  1.08s/it]\n",
      "100%|██████████| 162342/162342 [00:49<00:00, 3260.63it/s]\n",
      "100%|██████████| 318/318 [05:41<00:00,  1.07s/it]\n",
      "100%|██████████| 162342/162342 [00:50<00:00, 3219.47it/s]\n",
      "100%|██████████| 318/318 [05:45<00:00,  1.09s/it]\n"
     ]
    }
   ],
   "source": [
    "capacities = [100, 1000, 10000]\n",
    "error_rates = [0.1, 0.01, 0.001]\n",
    "\n",
    "bloom_filter_metrics = sweep_filter_params(\n",
    "    models[\"bce\"],\n",
    "    builders[\"bce\"][\"base\"],\n",
    "    capacities,\n",
    "    error_rates\n",
    ")"
   ]
  },
  {
   "cell_type": "code",
   "execution_count": 43,
   "metadata": {},
   "outputs": [],
   "source": [
    "filtering_plot_capacities = np.array(capacities)\n",
    "filtering_plot_recalls = np.array([[m[1]['recall'].cpu().item() for m in bloom_filter_metrics[fp]] for fp in error_rates])\n",
    "filtering_plot_ndcgs = np.array([[m[1]['ndcg'].cpu().item() for m in bloom_filter_metrics[fp]] for fp in error_rates])"
   ]
  },
  {
   "cell_type": "code",
   "execution_count": 44,
   "metadata": {},
   "outputs": [
    {
     "data": {
      "text/plain": [
       "<matplotlib.legend.Legend at 0x7f1be6254c40>"
      ]
     },
     "execution_count": 44,
     "metadata": {},
     "output_type": "execute_result"
    },
    {
     "data": {
      "image/png": "[encoded data removed]",
      "text/plain": [
       "<Figure size 900x600 with 1 Axes>"
      ]
     },
     "metadata": {},
     "output_type": "display_data"
    }
   ],
   "source": [
    "plt.figure(num=1, dpi=150, facecolor='w', edgecolor='k')\n",
    "plt.plot(filtering_plot_capacities, filtering_plot_recalls[0], label=\"FP Rate=0.1\")\n",
    "plt.plot(filtering_plot_capacities, filtering_plot_recalls[1], label=\"FP Rate=0.01\")\n",
    "plt.plot(filtering_plot_capacities, filtering_plot_recalls[2], label=\"FP Rate=0.001\")\n",
    "plt.hlines(0.18225, filtering_plot_capacities[0], filtering_plot_capacities[-1], colors='k', linestyles='dashed', label='Ideal')\n",
    "plt.xscale(\"log\")\n",
    "plt.xlabel(\"Filter Capacity\")\n",
    "plt.ylabel(\"Recall@100\")\n",
    "plt.legend()"
   ]
  },
  {
   "cell_type": "code",
   "execution_count": 45,
   "metadata": {},
   "outputs": [],
   "source": [
    "import math\n",
    "\n",
    "def compute_bytes(capacity, error_rate):\n",
    "    num_hashes = max(math.floor(math.log2(1 / error_rate)), 1)\n",
    "    bits_per_hash = math.ceil(\n",
    "                capacity * abs(math.log(error_rate)) /\n",
    "                (num_hashes * (math.log(2) ** 2)))\n",
    "    num_bits = max(num_hashes * bits_per_hash,128)\n",
    "    return num_bits//8\n",
    "\n",
    "def compute_kbytes(capacity, error_rate):\n",
    "    return compute_bytes(capacity, error_rate)/1024"
   ]
  },
  {
   "cell_type": "code",
   "execution_count": 46,
   "metadata": {},
   "outputs": [],
   "source": [
    "bloom_filter_sizes = {}\n",
    "\n",
    "error_rates = [0.1, 0.01, 0.001]\n",
    "capacities = [100, 300, 500, 1000, 3000, 5000, 10000]\n",
    "\n",
    "for error_rate in error_rates:\n",
    "    filter_sizes = []\n",
    "    \n",
    "    for capacity in capacities:\n",
    "        size = compute_kbytes(capacity, error_rate)\n",
    "        filter_sizes.append((capacity, size))\n",
    "    bloom_filter_sizes[error_rate] = filter_sizes"
   ]
  },
  {
   "cell_type": "code",
   "execution_count": 47,
   "metadata": {},
   "outputs": [],
   "source": [
    "filtering_plot_capacities = np.array(capacities)\n",
    "filtering_plot_sizes = np.array([[s[1] for s in bloom_filter_sizes[fp]] for fp in error_rates])"
   ]
  },
  {
   "cell_type": "code",
   "execution_count": 48,
   "metadata": {},
   "outputs": [
    {
     "data": {
      "text/plain": [
       "<matplotlib.legend.Legend at 0x7f1be62610d0>"
      ]
     },
     "execution_count": 48,
     "metadata": {},
     "output_type": "execute_result"
    },
    {
     "data": {
      "image/png": "[encoded data removed]",
      "text/plain": [
       "<Figure size 900x600 with 1 Axes>"
      ]
     },
     "metadata": {},
     "output_type": "display_data"
    }
   ],
   "source": [
    "plt.figure(num=1, dpi=150, facecolor='w', edgecolor='k')\n",
    "plt.plot(filtering_plot_capacities, filtering_plot_sizes[0], label=\"FP Rate=0.1\")\n",
    "plt.plot(filtering_plot_capacities, filtering_plot_sizes[1], label=\"FP Rate=0.01\")\n",
    "plt.plot(filtering_plot_capacities, filtering_plot_sizes[2], label=\"FP Rate=0.001\")\n",
    "plt.hlines(3.5, filtering_plot_capacities[0], filtering_plot_capacities[-1], colors='lightgray', linestyles='dashed', label='3.5kB Budget')\n",
    "plt.xscale(\"log\")\n",
    "plt.xlabel(\"Filter Capacity (Items)\")\n",
    "plt.ylabel(\"Filter Size (kBytes)\")\n",
    "plt.legend()"
   ]
  },
  {
   "cell_type": "markdown",
   "metadata": {},
   "source": [
    "#### New Baseline For Further Improvements"
   ]
  },
  {
   "cell_type": "code",
   "execution_count": 49,
   "metadata": {},
   "outputs": [
    {
     "name": "stderr",
     "output_type": "stream",
     "text": [
      "100%|██████████| 162342/162342 [00:48<00:00, 3373.87it/s]\n"
     ]
    }
   ],
   "source": [
    "bloom_filters[\"cap5000-fp0.1\"] = build_bloom_filters(\n",
    "    tqdm(train_dataloader.dataset),\n",
    "    expected_items=5000,\n",
    "    fp_rate=0.1\n",
    ")"
   ]
  },
  {
   "cell_type": "code",
   "execution_count": 50,
   "metadata": {},
   "outputs": [],
   "source": [
    "builders[\"bce\"][\"improved-filtering\"] = RecsPipelineBuilder(\n",
    "    defaults = RecsPipelineStages(\n",
    "        retrieval = [\n",
    "            UserAvgEmbeddingFetcher(models[\"bce\"]),\n",
    "            ANNSearch(ann_indices[\"bce\"][\"approx\"], num_items, num_candidates),\n",
    "        ],\n",
    "        filtering = [\n",
    "            BloomFilter(bloom_filters[\"cap5000-fp0.1\"]),\n",
    "            CandidatePadding(num_items, num_candidates),\n",
    "        ],\n",
    "        scoring = [\n",
    "            # Re-fetching user avg embeddings keeps retrieval changes from affecting scoring\n",
    "            UserAvgEmbeddingFetcher(models[\"bce\"]),\n",
    "            MatrixFactorizationScoring(models[\"bce\"]),\n",
    "        ],\n",
    "        ordering = [\n",
    "            DitheredOrdering(num_candidates, num_recs, epsilon=dithering_eps),\n",
    "        ]\n",
    "    )\n",
    ")"
   ]
  },
  {
   "cell_type": "markdown",
   "metadata": {},
   "source": [
    "#### Re-evaluate Idealized Stages"
   ]
  },
  {
   "cell_type": "code",
   "execution_count": 51,
   "metadata": {},
   "outputs": [],
   "source": [
    "pipelines[\"bce\"][\"ideal-retrieval-w-imp-filtering\"] = \\\n",
    "    builders[\"bce\"][\"improved-filtering\"].build(overrides=stages[\"bce\"][\"ideal-retrieval\"])"
   ]
  },
  {
   "cell_type": "code",
   "execution_count": 52,
   "metadata": {},
   "outputs": [
    {
     "name": "stderr",
     "output_type": "stream",
     "text": [
      "100%|██████████| 318/318 [06:08<00:00,  1.16s/it]\n"
     ]
    }
   ],
   "source": [
    "metrics[\"bce\"][\"ideal-retrieval-w-imp-filtering\"] = models[\"bce\"].compute_validation_metrics(\n",
    "    build_prediction_fn(pipelines[\"bce\"][\"ideal-retrieval-w-imp-filtering\"], train_dataloader),\n",
    "    tqdm(val_dataloader),\n",
    "    num_recs\n",
    ")"
   ]
  },
  {
   "cell_type": "code",
   "execution_count": 53,
   "metadata": {},
   "outputs": [
    {
     "name": "stdout",
     "output_type": "stream",
     "text": [
      "Precision: 0.0391\n",
      "Recall: 0.4693\n",
      "NDCG: 0.2201\n"
     ]
    }
   ],
   "source": [
    "print_metrics(metrics[\"bce\"][\"ideal-retrieval-w-imp-filtering\"])"
   ]
  },
  {
   "cell_type": "code",
   "execution_count": 54,
   "metadata": {},
   "outputs": [],
   "source": [
    "pipelines[\"bce\"][\"ideal-scoring-w-imp-filtering\"] = \\\n",
    "    builders[\"bce\"][\"improved-filtering\"].build(overrides=stages[\"bce\"][\"ideal-scoring\"])"
   ]
  },
  {
   "cell_type": "code",
   "execution_count": 55,
   "metadata": {},
   "outputs": [
    {
     "name": "stderr",
     "output_type": "stream",
     "text": [
      "100%|██████████| 318/318 [06:19<00:00,  1.19s/it]\n"
     ]
    }
   ],
   "source": [
    "metrics[\"bce\"][\"ideal-scoring-w-imp-filtering\"] = models[\"bce\"].compute_validation_metrics(\n",
    "    build_prediction_fn(pipelines[\"bce\"][\"ideal-scoring-w-imp-filtering\"], train_dataloader),\n",
    "    tqdm(val_dataloader),\n",
    "    num_recs\n",
    ")"
   ]
  },
  {
   "cell_type": "code",
   "execution_count": 56,
   "metadata": {},
   "outputs": [
    {
     "name": "stdout",
     "output_type": "stream",
     "text": [
      "Precision: 0.0216\n",
      "Recall: 0.3235\n",
      "NDCG: 0.4237\n"
     ]
    }
   ],
   "source": [
    "print_metrics(metrics[\"bce\"][\"ideal-scoring-w-imp-filtering\"])"
   ]
  },
  {
   "cell_type": "code",
   "execution_count": 57,
   "metadata": {},
   "outputs": [],
   "source": [
    "pipelines[\"bce\"][\"ideal-ordering-w-imp-filtering\"] = \\\n",
    "    builders[\"bce\"][\"improved-filtering\"].build(overrides=stages[\"bce\"][\"ideal-ordering\"])"
   ]
  },
  {
   "cell_type": "code",
   "execution_count": 58,
   "metadata": {},
   "outputs": [
    {
     "name": "stderr",
     "output_type": "stream",
     "text": [
      "100%|██████████| 318/318 [04:42<00:00,  1.13it/s]\n"
     ]
    }
   ],
   "source": [
    "metrics[\"bce\"][\"ideal-ordering-w-imp-filtering\"] = models[\"bce\"].compute_validation_metrics(\n",
    "    build_prediction_fn(pipelines[\"bce\"][\"ideal-ordering-w-imp-filtering\"], train_dataloader),\n",
    "    tqdm(val_dataloader),\n",
    "    num_recs\n",
    ")"
   ]
  },
  {
   "cell_type": "code",
   "execution_count": 59,
   "metadata": {},
   "outputs": [
    {
     "name": "stdout",
     "output_type": "stream",
     "text": [
      "Precision: 0.0126\n",
      "Recall: 0.1822\n",
      "NDCG: 0.1180\n"
     ]
    }
   ],
   "source": [
    "print_metrics(metrics[\"bce\"][\"ideal-ordering-w-imp-filtering\"])"
   ]
  },
  {
   "cell_type": "markdown",
   "metadata": {},
   "source": [
    "### Evaluate Model With BPR"
   ]
  },
  {
   "cell_type": "markdown",
   "metadata": {},
   "source": [
    "#### Load the model"
   ]
  },
  {
   "cell_type": "code",
   "execution_count": 60,
   "metadata": {},
   "outputs": [],
   "source": [
    "models[\"bpr\"] = load_model(\"../models/pious-meadow-467-bpr.pt\")\n",
    "\n",
    "if th.cuda.is_available():\n",
    "    models[\"bpr\"] = models[\"bpr\"].cuda(gpu_id)"
   ]
  },
  {
   "cell_type": "code",
   "execution_count": 61,
   "metadata": {},
   "outputs": [],
   "source": [
    "num_users = models[\"bpr\"].hparams.num_users\n",
    "num_items = models[\"bpr\"].hparams.num_items"
   ]
  },
  {
   "cell_type": "markdown",
   "metadata": {},
   "source": [
    "#### Compute Raw Model-Only Metrics"
   ]
  },
  {
   "cell_type": "code",
   "execution_count": 62,
   "metadata": {},
   "outputs": [
    {
     "name": "stderr",
     "output_type": "stream",
     "text": [
      "100%|██████████| 318/318 [01:38<00:00,  3.22it/s]\n"
     ]
    }
   ],
   "source": [
    "metrics[\"bpr\"][\"base\"] = models[\"bpr\"].compute_validation_metrics(\n",
    "    models[\"bpr\"].eval_predict,\n",
    "    tqdm(val_dataloader),\n",
    "    num_recs\n",
    ")"
   ]
  },
  {
   "cell_type": "code",
   "execution_count": 63,
   "metadata": {},
   "outputs": [
    {
     "name": "stdout",
     "output_type": "stream",
     "text": [
      "Precision: 0.0297\n",
      "Recall: 0.5003\n",
      "NDCG: 0.2307\n"
     ]
    }
   ],
   "source": [
    "print_metrics(metrics[\"bpr\"][\"base\"])"
   ]
  },
  {
   "cell_type": "markdown",
   "metadata": {},
   "source": [
    "#### Build Nearest Neighbor Search Indices"
   ]
  },
  {
   "cell_type": "code",
   "execution_count": 64,
   "metadata": {},
   "outputs": [],
   "source": [
    "dim = models[\"bpr\"].hparams.embedding_dim\n",
    "bpr_item_vectors = np.array(models[\"bpr\"].item_embeddings.weight.cpu().data)"
   ]
  },
  {
   "cell_type": "code",
   "execution_count": 65,
   "metadata": {},
   "outputs": [],
   "source": [
    "ann_indices[\"bpr\"][\"exact\"] = build_nn_search_index(bpr_item_vectors, dim, \"Flat\")"
   ]
  },
  {
   "cell_type": "code",
   "execution_count": 66,
   "metadata": {},
   "outputs": [],
   "source": [
    "ann_indices[\"bpr\"][\"approx\"] = build_nn_search_index(\n",
    "    bpr_item_vectors, dim, \"IVF1024,PQ32\", nprobe=30\n",
    ")"
   ]
  },
  {
   "cell_type": "code",
   "execution_count": 67,
   "metadata": {},
   "outputs": [],
   "source": [
    "if th.cuda.is_available():\n",
    "    cloner_options = faiss.GpuClonerOptions()\n",
    "    ann_indices[\"bpr\"][\"exact\"] = faiss.index_cpu_to_gpu(gpu_res, gpu_id, ann_indices[\"bpr\"][\"exact\"], cloner_options)\n",
    "    ann_indices[\"bpr\"][\"approx\"] = faiss.index_cpu_to_gpu(gpu_res, gpu_id, ann_indices[\"bpr\"][\"approx\"], cloner_options)"
   ]
  },
  {
   "cell_type": "code",
   "execution_count": 68,
   "metadata": {},
   "outputs": [
    {
     "data": {
      "text/plain": [
       "{1: {'FlatData': (8, 11056864),\n",
       "  'IVFLists': (4096, 3277040),\n",
       "  'Quantizer': (4, 131072),\n",
       "  'TemporaryMemoryBuffer': (1, 1610612736)}}"
      ]
     },
     "execution_count": 68,
     "metadata": {},
     "output_type": "execute_result"
    }
   ],
   "source": [
    "gpu_res.getMemoryInfo()"
   ]
  },
  {
   "cell_type": "markdown",
   "metadata": {},
   "source": [
    "#### Evaluate The End-To-End Pipelines"
   ]
  },
  {
   "cell_type": "code",
   "execution_count": 69,
   "metadata": {},
   "outputs": [],
   "source": [
    "stages[\"bpr\"][\"improved-scoring\"] = RecsPipelineStages(\n",
    "    scoring = [\n",
    "        # Re-fetching user avg embeddings keeps retrieval changes from affecting scoring\n",
    "        UserAvgEmbeddingFetcher(models[\"bpr\"]),\n",
    "        MatrixFactorizationScoring(models[\"bpr\"]),\n",
    "    ],\n",
    ")\n",
    "\n",
    "pipelines[\"bpr\"][\"improved-scoring\"] = builders[\"bce\"][\"improved-filtering\"].build(\n",
    "    overrides = stages[\"bpr\"][\"improved-scoring\"]\n",
    ")"
   ]
  },
  {
   "cell_type": "code",
   "execution_count": 70,
   "metadata": {
    "scrolled": true
   },
   "outputs": [
    {
     "name": "stderr",
     "output_type": "stream",
     "text": [
      "100%|██████████| 318/318 [05:40<00:00,  1.07s/it]\n"
     ]
    }
   ],
   "source": [
    "metrics[\"bpr\"][\"improved-scoring\"] = models[\"bpr\"].compute_validation_metrics(\n",
    "    build_prediction_fn(pipelines[\"bpr\"][\"improved-scoring\"], train_dataloader),\n",
    "    tqdm(val_dataloader),\n",
    "    num_recs\n",
    ")"
   ]
  },
  {
   "cell_type": "code",
   "execution_count": 71,
   "metadata": {
    "scrolled": false
   },
   "outputs": [
    {
     "name": "stdout",
     "output_type": "stream",
     "text": [
      "Precision: 0.0096\n",
      "Recall: 0.1301\n",
      "NDCG: 0.0944\n"
     ]
    }
   ],
   "source": [
    "print_metrics(metrics[\"bpr\"][\"improved-scoring\"])"
   ]
  },
  {
   "cell_type": "code",
   "execution_count": 72,
   "metadata": {},
   "outputs": [],
   "source": [
    "stages[\"bpr\"][\"improved-scoring-retrieval\"] = RecsPipelineStages(\n",
    "    retrieval = [\n",
    "        UserAvgEmbeddingFetcher(models[\"bpr\"]),\n",
    "        ANNSearch(ann_indices[\"bpr\"][\"approx\"], num_items, num_candidates),\n",
    "    ],\n",
    "    scoring = [\n",
    "        # Re-fetching user avg embeddings keeps retrieval changes from affecting scoring\n",
    "        UserAvgEmbeddingFetcher(models[\"bpr\"]),\n",
    "        MatrixFactorizationScoring(models[\"bpr\"]),\n",
    "    ],\n",
    ")\n",
    "\n",
    "pipelines[\"bpr\"][\"improved-scoring-retrieval\"] = \\\n",
    "    builders[\"bce\"][\"improved-filtering\"].build(\n",
    "        overrides=stages[\"bpr\"][\"improved-scoring-retrieval\"]\n",
    "    )"
   ]
  },
  {
   "cell_type": "code",
   "execution_count": 73,
   "metadata": {
    "scrolled": true
   },
   "outputs": [
    {
     "name": "stderr",
     "output_type": "stream",
     "text": [
      "100%|██████████| 318/318 [05:40<00:00,  1.07s/it]\n"
     ]
    }
   ],
   "source": [
    "metrics[\"bpr\"][\"improved-scoring-retrieval\"] = models[\"bpr\"].compute_validation_metrics(\n",
    "    build_prediction_fn(pipelines[\"bpr\"][\"improved-scoring-retrieval\"], train_dataloader),\n",
    "    tqdm(val_dataloader),\n",
    "    num_recs\n",
    ")"
   ]
  },
  {
   "cell_type": "code",
   "execution_count": 74,
   "metadata": {
    "scrolled": false
   },
   "outputs": [
    {
     "name": "stdout",
     "output_type": "stream",
     "text": [
      "Precision: 0.0139\n",
      "Recall: 0.1783\n",
      "NDCG: 0.1155\n"
     ]
    }
   ],
   "source": [
    "print_metrics(metrics[\"bpr\"][\"improved-scoring-retrieval\"])"
   ]
  },
  {
   "cell_type": "markdown",
   "metadata": {},
   "source": [
    "### Evaluate Model With WARP Loss"
   ]
  },
  {
   "cell_type": "code",
   "execution_count": 75,
   "metadata": {},
   "outputs": [],
   "source": [
    "models[\"warp\"] = load_model(\"../models/good-sweep-1-warp-01.pt\")\n",
    "\n",
    "if th.cuda.is_available():\n",
    "    models[\"warp\"] = models[\"warp\"].cuda(gpu_id)"
   ]
  },
  {
   "cell_type": "markdown",
   "metadata": {},
   "source": [
    "#### Build Nearest Neighbor Search Indices"
   ]
  },
  {
   "cell_type": "code",
   "execution_count": 76,
   "metadata": {},
   "outputs": [],
   "source": [
    "dim = models[\"warp\"].hparams.embedding_dim\n",
    "warp_item_vectors = np.array(models[\"warp\"].item_embeddings.weight.cpu().data)"
   ]
  },
  {
   "cell_type": "code",
   "execution_count": 77,
   "metadata": {},
   "outputs": [],
   "source": [
    "ann_indices[\"warp\"][\"exact\"] = build_nn_search_index(warp_item_vectors, dim, \"Flat\")"
   ]
  },
  {
   "cell_type": "code",
   "execution_count": 78,
   "metadata": {},
   "outputs": [],
   "source": [
    "ann_indices[\"warp\"][\"approx\"] = build_nn_search_index(\n",
    "    warp_item_vectors, dim, \"IVF1024,PQ32\", nprobe=30\n",
    ")"
   ]
  },
  {
   "cell_type": "code",
   "execution_count": 79,
   "metadata": {},
   "outputs": [],
   "source": [
    "if th.cuda.is_available():\n",
    "    cloner_options = faiss.GpuClonerOptions()\n",
    "    ann_indices[\"warp\"][\"exact\"] = faiss.index_cpu_to_gpu(gpu_res, gpu_id, ann_indices[\"warp\"][\"exact\"], cloner_options)\n",
    "    ann_indices[\"warp\"][\"approx\"] = faiss.index_cpu_to_gpu(gpu_res, gpu_id, ann_indices[\"warp\"][\"approx\"], cloner_options)"
   ]
  },
  {
   "cell_type": "markdown",
   "metadata": {},
   "source": [
    "#### Compute Raw Model-Only Metrics"
   ]
  },
  {
   "cell_type": "code",
   "execution_count": 80,
   "metadata": {},
   "outputs": [
    {
     "name": "stderr",
     "output_type": "stream",
     "text": [
      "100%|██████████| 318/318 [01:38<00:00,  3.22it/s]\n"
     ]
    }
   ],
   "source": [
    "metrics[\"warp\"][\"base\"] = models[\"warp\"].compute_validation_metrics(\n",
    "    models[\"warp\"].eval_predict,\n",
    "    tqdm(val_dataloader),\n",
    "    num_recs\n",
    ")"
   ]
  },
  {
   "cell_type": "code",
   "execution_count": 81,
   "metadata": {},
   "outputs": [
    {
     "name": "stdout",
     "output_type": "stream",
     "text": [
      "Precision: 0.0312\n",
      "Recall: 0.5171\n",
      "NDCG: 0.2403\n"
     ]
    }
   ],
   "source": [
    "print_metrics(metrics[\"warp\"][\"base\"])"
   ]
  },
  {
   "cell_type": "markdown",
   "metadata": {},
   "source": [
    "#### Evaluate The End-To-End Pipelines"
   ]
  },
  {
   "cell_type": "code",
   "execution_count": 82,
   "metadata": {},
   "outputs": [],
   "source": [
    "num_users = models[\"warp\"].hparams.num_users\n",
    "num_items = models[\"warp\"].hparams.num_items"
   ]
  },
  {
   "cell_type": "code",
   "execution_count": 83,
   "metadata": {},
   "outputs": [],
   "source": [
    "stages[\"warp\"][\"improved-scoring\"] = RecsPipelineStages(\n",
    "    scoring = [\n",
    "        # Re-fetching user avg embeddings keeps retrieval changes from affecting scoring\n",
    "        UserAvgEmbeddingFetcher(models[\"warp\"]),\n",
    "        MatrixFactorizationScoring(models[\"warp\"]),\n",
    "    ],\n",
    ")\n",
    "\n",
    "pipelines[\"warp\"][\"improved-scoring\"] = \\\n",
    "    builders[\"bce\"][\"improved-filtering\"].build(\n",
    "        overrides=stages[\"warp\"][\"improved-scoring\"]\n",
    "    )"
   ]
  },
  {
   "cell_type": "code",
   "execution_count": 84,
   "metadata": {
    "scrolled": true
   },
   "outputs": [
    {
     "name": "stderr",
     "output_type": "stream",
     "text": [
      "100%|██████████| 318/318 [06:00<00:00,  1.13s/it]\n"
     ]
    }
   ],
   "source": [
    "metrics[\"warp\"][\"improved-scoring\"] = models[\"warp\"].compute_validation_metrics(\n",
    "    build_prediction_fn(pipelines[\"warp\"][\"improved-scoring\"], train_dataloader),\n",
    "    tqdm(val_dataloader),\n",
    "    num_recs\n",
    ")"
   ]
  },
  {
   "cell_type": "code",
   "execution_count": 85,
   "metadata": {
    "scrolled": false
   },
   "outputs": [
    {
     "name": "stdout",
     "output_type": "stream",
     "text": [
      "Precision: 0.0152\n",
      "Recall: 0.2337\n",
      "NDCG: 0.1673\n"
     ]
    }
   ],
   "source": [
    "print_metrics(metrics[\"warp\"][\"improved-scoring\"])"
   ]
  },
  {
   "cell_type": "code",
   "execution_count": 86,
   "metadata": {},
   "outputs": [],
   "source": [
    "stages[\"warp\"][\"improved-scoring-retrieval\"] = RecsPipelineStages(\n",
    "    retrieval = [\n",
    "        UserAvgEmbeddingFetcher(models[\"warp\"]),\n",
    "        ANNSearch(ann_indices[\"warp\"][\"approx\"], num_items, num_candidates),\n",
    "    ],\n",
    "    scoring = [\n",
    "        # Re-fetching user avg embeddings keeps retrieval changes from affecting scoring\n",
    "        UserAvgEmbeddingFetcher(models[\"warp\"]),\n",
    "        MatrixFactorizationScoring(models[\"warp\"]),\n",
    "    ],\n",
    ")\n",
    "\n",
    "pipelines[\"warp\"][\"improved-scoring-retrieval\"] = \\\n",
    "    builders[\"bce\"][\"improved-filtering\"].build(\n",
    "        overrides=stages[\"warp\"][\"improved-scoring-retrieval\"]\n",
    "    )"
   ]
  },
  {
   "cell_type": "code",
   "execution_count": 87,
   "metadata": {},
   "outputs": [
    {
     "name": "stderr",
     "output_type": "stream",
     "text": [
      "100%|██████████| 318/318 [06:00<00:00,  1.13s/it]\n"
     ]
    }
   ],
   "source": [
    "metrics[\"warp\"][\"improved-scoring-retrieval\"] = models[\"warp\"].compute_validation_metrics(\n",
    "    build_prediction_fn(pipelines[\"warp\"][\"improved-scoring-retrieval\"], train_dataloader),\n",
    "    tqdm(val_dataloader),\n",
    "    num_recs\n",
    ")"
   ]
  },
  {
   "cell_type": "code",
   "execution_count": 88,
   "metadata": {},
   "outputs": [
    {
     "name": "stdout",
     "output_type": "stream",
     "text": [
      "Precision: 0.0192\n",
      "Recall: 0.2520\n",
      "NDCG: 0.1555\n"
     ]
    }
   ],
   "source": [
    "print_metrics(metrics[\"warp\"][\"improved-scoring-retrieval\"])"
   ]
  },
  {
   "cell_type": "markdown",
   "metadata": {},
   "source": [
    "#### New Baseline For Further Improvements"
   ]
  },
  {
   "cell_type": "code",
   "execution_count": 89,
   "metadata": {},
   "outputs": [],
   "source": [
    "stages[\"warp\"][\"improved-scoring-base\"] = RecsPipelineStages(\n",
    "    retrieval = [\n",
    "        UserAvgEmbeddingFetcher(models[\"warp\"]),\n",
    "        ANNSearch(ann_indices[\"warp\"][\"approx\"], num_items, num_candidates),\n",
    "    ],\n",
    "    filtering = [\n",
    "        BloomFilter(bloom_filters[\"cap5000-fp0.1\"]),\n",
    "        CandidatePadding(num_items, num_candidates),\n",
    "    ],\n",
    "    scoring = [\n",
    "        # Re-fetching user avg embeddings keeps retrieval changes from affecting scoring\n",
    "        UserAvgEmbeddingFetcher(models[\"warp\"]),\n",
    "        MatrixFactorizationScoring(models[\"warp\"]),\n",
    "    ],\n",
    "    ordering = [\n",
    "        DitheredOrdering(num_candidates, num_recs, epsilon=dithering_eps),\n",
    "    ]\n",
    ")\n",
    "\n",
    "builders[\"warp\"][\"improved-scoring-base\"] = \\\n",
    "    RecsPipelineBuilder(defaults=stages[\"warp\"][\"improved-scoring-base\"])"
   ]
  },
  {
   "cell_type": "markdown",
   "metadata": {},
   "source": [
    "#### Re-evaluate Idealized Stages"
   ]
  },
  {
   "cell_type": "code",
   "execution_count": 90,
   "metadata": {},
   "outputs": [],
   "source": [
    "stages[\"warp\"][\"ideal-retrieval\"] = RecsPipelineStages(\n",
    "    retrieval = [\n",
    "        UserEmbeddingFetcher(models[\"warp\"]),\n",
    "        IdealizedANNSearch(val_dataloader.dataset, ann_indices[\"warp\"][\"exact\"], num_items, num_candidates),\n",
    "    ]\n",
    ")\n",
    "\n",
    "pipelines[\"warp\"][\"ideal-retrieval\"] = builders[\"warp\"][\"improved-scoring-base\"].build(\n",
    "    overrides=stages[\"warp\"][\"ideal-retrieval\"]\n",
    ")"
   ]
  },
  {
   "cell_type": "code",
   "execution_count": 91,
   "metadata": {},
   "outputs": [
    {
     "name": "stderr",
     "output_type": "stream",
     "text": [
      "100%|██████████| 318/318 [06:20<00:00,  1.20s/it]\n"
     ]
    }
   ],
   "source": [
    "metrics[\"warp\"][\"ideal-retrieval\"] = models[\"warp\"].compute_validation_metrics(\n",
    "    build_prediction_fn(pipelines[\"warp\"][\"ideal-retrieval\"], train_dataloader),\n",
    "    tqdm(val_dataloader),\n",
    "    num_recs\n",
    ")"
   ]
  },
  {
   "cell_type": "code",
   "execution_count": 92,
   "metadata": {},
   "outputs": [
    {
     "name": "stdout",
     "output_type": "stream",
     "text": [
      "Precision: 0.0410\n",
      "Recall: 0.5071\n",
      "NDCG: 0.2458\n"
     ]
    }
   ],
   "source": [
    "print_metrics(metrics[\"warp\"][\"ideal-retrieval\"])"
   ]
  },
  {
   "cell_type": "code",
   "execution_count": 93,
   "metadata": {},
   "outputs": [],
   "source": [
    "pipelines[\"warp\"][\"ideal-ordering\"] = builders[\"warp\"][\"improved-scoring-base\"].build(\n",
    "    overrides=stages[\"bce\"][\"ideal-ordering\"]\n",
    ")"
   ]
  },
  {
   "cell_type": "code",
   "execution_count": 94,
   "metadata": {},
   "outputs": [
    {
     "name": "stderr",
     "output_type": "stream",
     "text": [
      "100%|██████████| 318/318 [04:41<00:00,  1.13it/s]\n"
     ]
    }
   ],
   "source": [
    "metrics[\"warp\"][\"ideal-ordering\"] = models[\"warp\"].compute_validation_metrics(\n",
    "    build_prediction_fn(pipelines[\"warp\"][\"ideal-ordering\"], train_dataloader),\n",
    "    tqdm(val_dataloader),\n",
    "    num_recs\n",
    ")"
   ]
  },
  {
   "cell_type": "code",
   "execution_count": 95,
   "metadata": {},
   "outputs": [
    {
     "name": "stdout",
     "output_type": "stream",
     "text": [
      "Precision: 0.0228\n",
      "Recall: 0.2979\n",
      "NDCG: 0.1704\n"
     ]
    }
   ],
   "source": [
    "print_metrics(metrics[\"warp\"][\"ideal-ordering\"])"
   ]
  },
  {
   "cell_type": "markdown",
   "metadata": {},
   "source": [
    "### Improved Retrieval"
   ]
  },
  {
   "cell_type": "markdown",
   "metadata": {},
   "source": [
    "#### Learned user embedding, exact NN search, no idealization"
   ]
  },
  {
   "cell_type": "code",
   "execution_count": 96,
   "metadata": {},
   "outputs": [],
   "source": [
    "stages[\"warp\"][\"learned-exact-retrieval\"] = RecsPipelineStages(\n",
    "    retrieval = [\n",
    "        UserEmbeddingFetcher(models[\"warp\"]),\n",
    "        ANNSearch(ann_indices[\"warp\"][\"exact\"], num_items, num_candidates),\n",
    "        UserAvgEmbeddingFetcher(models[\"warp\"])\n",
    "    ]\n",
    ")\n",
    "\n",
    "pipelines[\"warp\"][\"learned-exact-retrieval\"] = \\\n",
    "    builders[\"warp\"][\"improved-scoring-base\"].build(\n",
    "        overrides=stages[\"warp\"][\"learned-exact-retrieval\"]\n",
    "    )"
   ]
  },
  {
   "cell_type": "code",
   "execution_count": 97,
   "metadata": {},
   "outputs": [
    {
     "name": "stderr",
     "output_type": "stream",
     "text": [
      "100%|██████████| 318/318 [06:00<00:00,  1.13s/it]\n"
     ]
    }
   ],
   "source": [
    "metrics[\"warp\"][\"learned-exact-retrieval\"] = models[\"warp\"].compute_validation_metrics(\n",
    "    build_prediction_fn(pipelines[\"warp\"][\"learned-exact-retrieval\"], train_dataloader),\n",
    "    tqdm(val_dataloader),\n",
    "    num_recs\n",
    ")"
   ]
  },
  {
   "cell_type": "code",
   "execution_count": 98,
   "metadata": {},
   "outputs": [
    {
     "name": "stdout",
     "output_type": "stream",
     "text": [
      "Precision: 0.0208\n",
      "Recall: 0.2565\n",
      "NDCG: 0.1547\n"
     ]
    }
   ],
   "source": [
    "print_metrics(metrics[\"warp\"][\"learned-exact-retrieval\"])"
   ]
  },
  {
   "cell_type": "markdown",
   "metadata": {},
   "source": [
    "#### Learned user embedding, approx NN search, no idealization"
   ]
  },
  {
   "cell_type": "code",
   "execution_count": 99,
   "metadata": {},
   "outputs": [],
   "source": [
    "stages[\"warp\"][\"learned-approx-retrieval\"] = RecsPipelineStages(\n",
    "    retrieval = [\n",
    "        UserEmbeddingFetcher(models[\"warp\"]),\n",
    "        ANNSearch(ann_indices[\"warp\"][\"approx\"], num_items, num_candidates),\n",
    "        UserAvgEmbeddingFetcher(models[\"warp\"])\n",
    "    ]\n",
    ")\n",
    "\n",
    "pipelines[\"warp\"][\"learned-approx-retrieval\"] = \\\n",
    "    builders[\"warp\"][\"improved-scoring-base\"].build(\n",
    "        overrides=stages[\"warp\"][\"learned-approx-retrieval\"]\n",
    "    )"
   ]
  },
  {
   "cell_type": "code",
   "execution_count": 100,
   "metadata": {},
   "outputs": [
    {
     "name": "stderr",
     "output_type": "stream",
     "text": [
      "100%|██████████| 318/318 [06:00<00:00,  1.13s/it]\n"
     ]
    }
   ],
   "source": [
    "metrics[\"warp\"][\"learned-approx-retrieval\"] = models[\"warp\"].compute_validation_metrics(\n",
    "    build_prediction_fn(pipelines[\"warp\"][\"learned-approx-retrieval\"], train_dataloader),\n",
    "    tqdm(val_dataloader),\n",
    "    num_recs\n",
    ")"
   ]
  },
  {
   "cell_type": "code",
   "execution_count": 101,
   "metadata": {},
   "outputs": [
    {
     "name": "stdout",
     "output_type": "stream",
     "text": [
      "Precision: 0.0163\n",
      "Recall: 0.2107\n",
      "NDCG: 0.1409\n"
     ]
    }
   ],
   "source": [
    "print_metrics(metrics[\"warp\"][\"learned-approx-retrieval\"])"
   ]
  },
  {
   "cell_type": "markdown",
   "metadata": {},
   "source": [
    "#### Averaged user embedding, exact NN search, no idealization"
   ]
  },
  {
   "cell_type": "code",
   "execution_count": 102,
   "metadata": {},
   "outputs": [],
   "source": [
    "stages[\"warp\"][\"avg-exact-retrieval\"] = RecsPipelineStages(\n",
    "    retrieval = [\n",
    "        UserAvgEmbeddingFetcher(models[\"warp\"]),\n",
    "        ANNSearch(ann_indices[\"warp\"][\"exact\"], num_items, num_candidates),\n",
    "    ]\n",
    ")\n",
    "\n",
    "pipelines[\"warp\"][\"avg-exact-retrieval\"] = \\\n",
    "    builders[\"warp\"][\"improved-scoring-base\"].build(\n",
    "        overrides=stages[\"warp\"][\"avg-exact-retrieval\"]\n",
    "    )"
   ]
  },
  {
   "cell_type": "code",
   "execution_count": 103,
   "metadata": {},
   "outputs": [
    {
     "name": "stderr",
     "output_type": "stream",
     "text": [
      "100%|██████████| 318/318 [06:14<00:00,  1.18s/it]\n"
     ]
    }
   ],
   "source": [
    "metrics[\"warp\"][\"avg-exact-retrieval\"] = models[\"warp\"].compute_validation_metrics(\n",
    "    build_prediction_fn(pipelines[\"warp\"][\"avg-exact-retrieval\"], train_dataloader),\n",
    "    tqdm(val_dataloader),\n",
    "    num_recs\n",
    ")"
   ]
  },
  {
   "cell_type": "code",
   "execution_count": 104,
   "metadata": {},
   "outputs": [
    {
     "name": "stdout",
     "output_type": "stream",
     "text": [
      "Precision: 0.0189\n",
      "Recall: 0.2472\n",
      "NDCG: 0.1533\n"
     ]
    }
   ],
   "source": [
    "print_metrics(metrics[\"warp\"][\"avg-exact-retrieval\"])"
   ]
  },
  {
   "cell_type": "markdown",
   "metadata": {},
   "source": [
    "#### Averaged user embedding, approx NN search, no idealization"
   ]
  },
  {
   "cell_type": "code",
   "execution_count": 105,
   "metadata": {},
   "outputs": [],
   "source": [
    "stages[\"warp\"][\"avg-approx-retrieval\"] = RecsPipelineStages(\n",
    "    retrieval = [\n",
    "        UserEmbeddingFetcher(models[\"warp\"]),\n",
    "        ANNSearch(ann_indices[\"warp\"][\"approx\"], num_items, num_candidates),\n",
    "        UserAvgEmbeddingFetcher(models[\"warp\"])\n",
    "    ]\n",
    ")\n",
    "\n",
    "pipelines[\"warp\"][\"avg-approx-retrieval\"] = \\\n",
    "    builders[\"warp\"][\"improved-scoring-base\"].build(\n",
    "        overrides=stages[\"warp\"][\"avg-approx-retrieval\"]\n",
    "    )"
   ]
  },
  {
   "cell_type": "code",
   "execution_count": 106,
   "metadata": {},
   "outputs": [
    {
     "name": "stderr",
     "output_type": "stream",
     "text": [
      "100%|██████████| 318/318 [06:04<00:00,  1.15s/it]\n"
     ]
    }
   ],
   "source": [
    "metrics[\"warp\"][\"avg-approx-retrieval\"] = models[\"warp\"].compute_validation_metrics(\n",
    "    build_prediction_fn(pipelines[\"warp\"][\"avg-approx-retrieval\"], train_dataloader),\n",
    "    tqdm(val_dataloader),\n",
    "    num_recs\n",
    ")"
   ]
  },
  {
   "cell_type": "code",
   "execution_count": 107,
   "metadata": {},
   "outputs": [
    {
     "name": "stdout",
     "output_type": "stream",
     "text": [
      "Precision: 0.0163\n",
      "Recall: 0.2106\n",
      "NDCG: 0.1407\n"
     ]
    }
   ],
   "source": [
    "print_metrics(metrics[\"warp\"][\"avg-approx-retrieval\"])"
   ]
  },
  {
   "cell_type": "markdown",
   "metadata": {},
   "source": [
    "####  Item embeddings, exact NN search, no idealization"
   ]
  },
  {
   "cell_type": "code",
   "execution_count": 108,
   "metadata": {},
   "outputs": [],
   "source": [
    "stages[\"warp\"][\"items-exact-retrieval\"] = RecsPipelineStages(\n",
    "    retrieval = [\n",
    "        ItemEmbeddingsFetcher(models[\"warp\"]),\n",
    "        UseItemEmbeddingsAsUserEmbeddings(),\n",
    "        ANNSearch(ann_indices[\"warp\"][\"exact\"], num_items, num_candidates),\n",
    "    ]\n",
    ")\n",
    "\n",
    "pipelines[\"warp\"][\"items-exact-retrieval\"] = \\\n",
    "    builders[\"warp\"][\"improved-scoring-base\"].build(\n",
    "        overrides=stages[\"warp\"][\"items-exact-retrieval\"]\n",
    "    )"
   ]
  },
  {
   "cell_type": "code",
   "execution_count": 109,
   "metadata": {},
   "outputs": [
    {
     "name": "stderr",
     "output_type": "stream",
     "text": [
      "100%|██████████| 318/318 [07:14<00:00,  1.37s/it]\n"
     ]
    }
   ],
   "source": [
    "metrics[\"warp\"][\"items-exact-retrieval\"] = models[\"warp\"].compute_validation_metrics(\n",
    "    build_prediction_fn(pipelines[\"warp\"][\"items-exact-retrieval\"], train_dataloader),\n",
    "    tqdm(val_dataloader),\n",
    "    num_recs\n",
    ")"
   ]
  },
  {
   "cell_type": "code",
   "execution_count": 110,
   "metadata": {},
   "outputs": [
    {
     "name": "stdout",
     "output_type": "stream",
     "text": [
      "Precision: 0.0184\n",
      "Recall: 0.3193\n",
      "NDCG: 0.1859\n"
     ]
    }
   ],
   "source": [
    "print_metrics(metrics[\"warp\"][\"items-exact-retrieval\"])"
   ]
  },
  {
   "cell_type": "markdown",
   "metadata": {},
   "source": [
    "#### Item embeddings, approx NN search, no idealization"
   ]
  },
  {
   "cell_type": "code",
   "execution_count": 111,
   "metadata": {},
   "outputs": [],
   "source": [
    "stages[\"warp\"][\"items-approx-retrieval\"] = RecsPipelineStages(\n",
    "    retrieval = [\n",
    "        ItemEmbeddingsFetcher(models[\"warp\"]),\n",
    "        UseItemEmbeddingsAsUserEmbeddings(),\n",
    "        ANNSearch(ann_indices[\"warp\"][\"approx\"], num_items, num_candidates),\n",
    "    ]\n",
    ")\n",
    "\n",
    "pipelines[\"warp\"][\"items-approx-retrieval\"] = \\\n",
    "    builders[\"warp\"][\"improved-scoring-base\"].build(\n",
    "        overrides=stages[\"warp\"][\"items-approx-retrieval\"]\n",
    "    )"
   ]
  },
  {
   "cell_type": "code",
   "execution_count": 112,
   "metadata": {},
   "outputs": [
    {
     "name": "stderr",
     "output_type": "stream",
     "text": [
      "100%|██████████| 318/318 [06:50<00:00,  1.29s/it]\n"
     ]
    }
   ],
   "source": [
    "metrics[\"warp\"][\"items-approx-retrieval\"] = models[\"warp\"].compute_validation_metrics(\n",
    "    build_prediction_fn(pipelines[\"warp\"][\"items-approx-retrieval\"], train_dataloader),\n",
    "    tqdm(val_dataloader),\n",
    "    num_recs\n",
    ")"
   ]
  },
  {
   "cell_type": "code",
   "execution_count": 113,
   "metadata": {},
   "outputs": [
    {
     "name": "stdout",
     "output_type": "stream",
     "text": [
      "Precision: 0.0197\n",
      "Recall: 0.3333\n",
      "NDCG: 0.1893\n"
     ]
    }
   ],
   "source": [
    "print_metrics(metrics[\"warp\"][\"items-approx-retrieval\"])"
   ]
  },
  {
   "cell_type": "markdown",
   "metadata": {},
   "source": [
    "#### New baseline for further improvements"
   ]
  },
  {
   "cell_type": "code",
   "execution_count": 114,
   "metadata": {},
   "outputs": [],
   "source": [
    "stages[\"warp\"][\"improved-retrieval-base\"] = RecsPipelineStages(\n",
    "    retrieval = [\n",
    "        ItemEmbeddingsFetcher(models[\"warp\"]),\n",
    "        UseItemEmbeddingsAsUserEmbeddings(),\n",
    "        ANNSearch(ann_indices[\"warp\"][\"approx\"], num_items, num_candidates),\n",
    "    ],\n",
    "    filtering = [\n",
    "        BloomFilter(bloom_filters[\"cap5000-fp0.1\"]),\n",
    "        CandidatePadding(num_items, num_candidates),\n",
    "    ],\n",
    "    scoring = [\n",
    "        # Re-fetching user avg embeddings keeps retrieval changes from affecting scoring\n",
    "        UserAvgEmbeddingFetcher(models[\"warp\"]),\n",
    "        MatrixFactorizationScoring(models[\"warp\"]),\n",
    "    ],\n",
    "    ordering = [\n",
    "        DitheredOrdering(num_candidates, num_recs, epsilon=dithering_eps),\n",
    "    ]\n",
    ")\n",
    "\n",
    "builders[\"warp\"][\"improved-retrieval-base\"] = \\\n",
    "    RecsPipelineBuilder(defaults=stages[\"warp\"][\"improved-retrieval-base\"])"
   ]
  },
  {
   "cell_type": "code",
   "execution_count": 115,
   "metadata": {},
   "outputs": [],
   "source": [
    "pipelines[\"warp\"][\"ideal-ordering\"] = \\\n",
    "    builders[\"warp\"][\"improved-retrieval-base\"].build(\n",
    "        overrides=stages[\"bce\"][\"ideal-ordering\"]\n",
    "    )"
   ]
  },
  {
   "cell_type": "code",
   "execution_count": 116,
   "metadata": {},
   "outputs": [
    {
     "name": "stderr",
     "output_type": "stream",
     "text": [
      "100%|██████████| 318/318 [05:32<00:00,  1.05s/it]\n"
     ]
    }
   ],
   "source": [
    "metrics[\"warp\"][\"ideal-ordering\"] = models[\"warp\"].compute_validation_metrics(\n",
    "    build_prediction_fn(pipelines[\"warp\"][\"ideal-ordering\"], train_dataloader),\n",
    "    tqdm(val_dataloader),\n",
    "    num_recs\n",
    ")"
   ]
  },
  {
   "cell_type": "code",
   "execution_count": 117,
   "metadata": {},
   "outputs": [
    {
     "name": "stdout",
     "output_type": "stream",
     "text": [
      "Precision: 0.0230\n",
      "Recall: 0.3995\n",
      "NDCG: 0.2125\n"
     ]
    }
   ],
   "source": [
    "print_metrics(metrics[\"warp\"][\"ideal-ordering\"])"
   ]
  },
  {
   "cell_type": "markdown",
   "metadata": {},
   "source": [
    "### Improved Ordering"
   ]
  },
  {
   "cell_type": "markdown",
   "metadata": {},
   "source": [
    "#### Reduced dithering"
   ]
  },
  {
   "cell_type": "code",
   "execution_count": null,
   "metadata": {},
   "outputs": [],
   "source": [
    "def float_range(start, stop, step):\n",
    "    i = start\n",
    "    while i < stop:\n",
    "        yield i\n",
    "        i += step"
   ]
  },
  {
   "cell_type": "code",
   "execution_count": null,
   "metadata": {},
   "outputs": [],
   "source": [
    "stages = RecsPipelineStages(\n",
    "    ordering = [\n",
    "        DitheredOrdering(num_recs, epsilon=5.0),\n",
    "    ]\n",
    ")\n",
    "dithering_pipeline = builders[\"warp\"][\"improved-retrieval-base\"].build(overrides=stages)\n",
    "dithering_pipeline.caching = True\n",
    "m = models[\"warp\"].compute_validation_metrics(\n",
    "    build_prediction_fn(dithering_pipeline, train_dataloader),\n",
    "    tqdm(val_dataloader),\n",
    "    num_recs\n",
    ")"
   ]
  },
  {
   "cell_type": "code",
   "execution_count": null,
   "metadata": {},
   "outputs": [],
   "source": [
    "import copy\n",
    "initial_results = dithering_pipeline.cache\n",
    "dithering_pipeline.cache = {}"
   ]
  },
  {
   "cell_type": "code",
   "execution_count": null,
   "metadata": {},
   "outputs": [],
   "source": [
    "for user_id in tqdm(initial_results.keys()):\n",
    "    user_recs = copy.deepcopy(initial_results[user_id])\n",
    "    user_recs = dithering_pipeline.components[-1].run(user_recs)\n",
    "    dithering_pipeline.cache[user_id] = user_recs\n",
    "    \n",
    "rerun_results = dithering_pipeline.cache"
   ]
  },
  {
   "cell_type": "code",
   "execution_count": null,
   "metadata": {},
   "outputs": [],
   "source": [
    "initial_results[0].scores[initial_results[0].scores != float(\"-inf\")]"
   ]
  },
  {
   "cell_type": "code",
   "execution_count": null,
   "metadata": {},
   "outputs": [],
   "source": [
    "rerun_results[0].scores[rerun_results[0].scores != float(\"-inf\")]"
   ]
  },
  {
   "cell_type": "code",
   "execution_count": null,
   "metadata": {},
   "outputs": [],
   "source": [
    "th.topk(initial_results[0].scores, num_recs)"
   ]
  },
  {
   "cell_type": "code",
   "execution_count": null,
   "metadata": {},
   "outputs": [],
   "source": [
    "th.topk(rerun_results[0].scores, num_recs)"
   ]
  },
  {
   "cell_type": "code",
   "execution_count": null,
   "metadata": {},
   "outputs": [],
   "source": [
    "_, initial_indices = th.topk(initial_results[0].scores, num_recs)\n",
    "_, rerun_indices = th.topk(rerun_results[0].scores, num_recs)"
   ]
  },
  {
   "cell_type": "code",
   "execution_count": null,
   "metadata": {},
   "outputs": [],
   "source": [
    "len(np.intersect1d(initial_indices, rerun_indices))"
   ]
  },
  {
   "cell_type": "code",
   "execution_count": null,
   "metadata": {},
   "outputs": [],
   "source": [
    "overlaps = []\n",
    "\n",
    "for user_id in tqdm(initial_results.keys()): \n",
    "    _, initial_indices = th.topk(initial_results[user_id].scores, num_recs)\n",
    "    _, rerun_indices = th.topk(rerun_results[user_id].scores, num_recs)\n",
    "\n",
    "    intersection = len(np.intersect1d(initial_indices, rerun_indices))\n",
    "    overlaps.append(intersection)"
   ]
  },
  {
   "cell_type": "code",
   "execution_count": null,
   "metadata": {},
   "outputs": [],
   "source": [
    "print(np.min(np.array(overlaps)))\n",
    "print(np.max(np.array(overlaps)))\n",
    "print(np.median(np.array(overlaps)))"
   ]
  },
  {
   "cell_type": "code",
   "execution_count": null,
   "metadata": {},
   "outputs": [],
   "source": [
    "import copy\n",
    "\n",
    "builder = improved_retrieval_pipeline_builder\n",
    "ordering_epsilons = list(float_range(1.0,2.0,0.5))\n",
    "\n",
    "metrics = []\n",
    "\n",
    "for epsilon in ordering_epsilons:\n",
    "    stages = RecsPipelineStages(\n",
    "        ordering = [\n",
    "            DitheredOrdering(num_recs, epsilon=epsilon),\n",
    "        ]\n",
    "    )\n",
    "    dithering_pipeline = builder.build(overrides=stages)\n",
    "    dithering_pipeline.caching = True\n",
    "    m = warp_model.compute_validation_metrics(\n",
    "        build_prediction_fn(dithering_pipeline, train_dataloader),\n",
    "        tqdm(val_dataloader),\n",
    "        num_recs\n",
    "    )\n",
    "    print(\"Finished computing metrics\")\n",
    "    initial_results = copy.deepcopy(dithering_pipeline.cache)\n",
    "    print(\"Finished deep copy\")\n",
    "    \n",
    "    # Re-run the dithering stage\n",
    "    for user_id in dithering_pipeline.cache.keys():\n",
    "        user_recs = dithering_pipeline.cache[user_id]\n",
    "        user_recs = dithering_pipeline.components[-1].run(user_recs)\n",
    "        dithering_pipeline.cache[user_id] = user_recs\n",
    "        \n",
    "    rerun_results = dithering_pipeline.cache\n",
    "    print(\"Finished re-running dithering\")\n",
    "    \n",
    "    overlaps = []\n",
    "    \n",
    "    for user_id in tqdm(initial_results.keys()): \n",
    "        _, initial_indices = th.topk(initial_results[user_id].scores, num_recs)\n",
    "        _, rerun_indices = th.topk(rerun_results[user_id].scores, num_recs)\n",
    "        \n",
    "        overlaps.append(np.intersect1d(initial_indices, rerun_indices))\n",
    "    print(\"Finished computing overlaps\")\n",
    "        \n",
    "    m['overlap'] = np.median(np.array(overlaps))\n",
    "    \n",
    "    metrics.append((epsilon, m))"
   ]
  },
  {
   "cell_type": "code",
   "execution_count": null,
   "metadata": {},
   "outputs": [],
   "source": [
    "dithering_plot_epsilons = np.array([m[0] for m in metrics])\n",
    "dithering_plot_ndcgs = np.array([m[1]['ndcg'].cpu().item() for m in metrics])"
   ]
  },
  {
   "cell_type": "code",
   "execution_count": null,
   "metadata": {},
   "outputs": [],
   "source": [
    "plt.figure(num=2, dpi=150, facecolor='w', edgecolor='k')\n",
    "plt.plot(dithering_plot_epsilons, dithering_plot_ndcgs)\n",
    "plt.xlabel(\"Dithering Epsilon\")\n",
    "plt.ylabel(\"NDCG\")\n",
    "plt.axvspan(1.5, 3.0, color='green', alpha=0.1, label=\"Typical Range\")\n",
    "plt.legend()"
   ]
  },
  {
   "cell_type": "markdown",
   "metadata": {},
   "source": [
    "#### New Baseline For Further Improvements"
   ]
  },
  {
   "cell_type": "code",
   "execution_count": null,
   "metadata": {},
   "outputs": [],
   "source": [
    "default_stages = RecsPipelineStages(\n",
    "    retrieval = [\n",
    "        ItemEmbeddingsFetcher(warp_model),\n",
    "        UseItemEmbeddingsAsUserEmbeddings(),\n",
    "        ANNSearch(warp_approx_index, num_items, num_candidates),\n",
    "    ],\n",
    "    filtering = [\n",
    "        BloomFilter(improved_bloom_filters),\n",
    "        CandidatePadding(num_items, num_candidates),\n",
    "    ],\n",
    "    scoring = [\n",
    "        # Re-fetching user average embeddings keeps modified retrieval from affecting scoring\n",
    "        UserAvgEmbeddingFetcher(warp_model),\n",
    "        MatrixFactorizationScoring(warp_model),\n",
    "    ],\n",
    "    ordering = [\n",
    "        DitheredOrdering(num_recs, epsilon=2.0),\n",
    "    ]\n",
    ")\n",
    "\n",
    "improved_ordering_pipeline_builder = RecsPipelineBuilder(defaults=default_stages)"
   ]
  },
  {
   "cell_type": "markdown",
   "metadata": {},
   "source": [
    "### Evaluate Idealized Retrieval"
   ]
  },
  {
   "cell_type": "code",
   "execution_count": null,
   "metadata": {},
   "outputs": [],
   "source": [
    "builder = improved_ordering_pipeline_builder"
   ]
  },
  {
   "cell_type": "markdown",
   "metadata": {},
   "source": [
    "#### Learned user embedding, exact NN search, idealized results"
   ]
  },
  {
   "cell_type": "code",
   "execution_count": null,
   "metadata": {},
   "outputs": [],
   "source": [
    "ideal_retrieval_stages = RecsPipelineStages(\n",
    "    retrieval = [\n",
    "        UserEmbeddingFetcher(warp_model),\n",
    "        IdealizedANNSearch(val_dataloader.dataset, bce_exact_index, num_items, num_candidates),\n",
    "    ]\n",
    ")\n",
    "\n",
    "ideal_retrieval = builder.build(overrides=ideal_retrieval_stages)"
   ]
  },
  {
   "cell_type": "code",
   "execution_count": null,
   "metadata": {},
   "outputs": [],
   "source": [
    "ideal_retrieval_metrics = warp_model.compute_validation_metrics(\n",
    "    build_prediction_fn(ideal_retrieval, train_dataloader),\n",
    "    tqdm(val_dataloader),\n",
    "    num_recs\n",
    ")"
   ]
  },
  {
   "cell_type": "code",
   "execution_count": null,
   "metadata": {},
   "outputs": [],
   "source": [
    "print_metrics(ideal_retrieval_metrics)"
   ]
  },
  {
   "cell_type": "markdown",
   "metadata": {},
   "source": [
    "### Evaluate Idealized Filtering"
   ]
  },
  {
   "cell_type": "code",
   "execution_count": null,
   "metadata": {},
   "outputs": [],
   "source": [
    "ideal_filtering_stages = RecsPipelineStages(\n",
    "    filtering = [\n",
    "        IdealizedFilter(train_dataloader.dataset),\n",
    "        CandidatePadding(num_items, num_candidates),\n",
    "    ]\n",
    ")\n",
    "\n",
    "ideal_filtering = builder.build(overrides=ideal_filtering_stages)"
   ]
  },
  {
   "cell_type": "code",
   "execution_count": null,
   "metadata": {},
   "outputs": [],
   "source": [
    "ideal_filtering_metrics = warp_model.compute_validation_metrics(\n",
    "    build_prediction_fn(ideal_filtering, train_dataloader),\n",
    "    tqdm(val_dataloader),\n",
    "    num_recs\n",
    ")"
   ]
  },
  {
   "cell_type": "code",
   "execution_count": null,
   "metadata": {},
   "outputs": [],
   "source": [
    "print_metrics(ideal_filtering_metrics)"
   ]
  },
  {
   "cell_type": "markdown",
   "metadata": {},
   "source": [
    "### Evaluate Idealized Scoring"
   ]
  },
  {
   "cell_type": "code",
   "execution_count": null,
   "metadata": {},
   "outputs": [],
   "source": [
    "ideal_scoring_stages = RecsPipelineStages(\n",
    "    scoring = [\n",
    "        # Re-fetching user avg embeddings keeps retrieval changes from affecting scoring\n",
    "        UserAvgEmbeddingFetcher(warp_model),\n",
    "        IdealizedMatrixFactorizationScoring(warp_model, val_dataloader.dataset),\n",
    "    ]\n",
    ")\n",
    "\n",
    "ideal_scoring = builder.build(overrides=ideal_scoring_stages)"
   ]
  },
  {
   "cell_type": "code",
   "execution_count": null,
   "metadata": {},
   "outputs": [],
   "source": [
    "ideal_scoring_metrics = warp_model.compute_validation_metrics(\n",
    "    build_prediction_fn(ideal_scoring, train_dataloader),\n",
    "    tqdm(val_dataloader),\n",
    "    num_recs\n",
    ")"
   ]
  },
  {
   "cell_type": "code",
   "execution_count": null,
   "metadata": {},
   "outputs": [],
   "source": [
    "print_metrics(ideal_scoring_metrics)"
   ]
  },
  {
   "cell_type": "markdown",
   "metadata": {},
   "source": [
    "### Evaluate Idealized Ordering"
   ]
  },
  {
   "cell_type": "markdown",
   "metadata": {},
   "source": [
    "#### Order descending by score (omitting dithering)"
   ]
  },
  {
   "cell_type": "code",
   "execution_count": null,
   "metadata": {},
   "outputs": [],
   "source": [
    "ideal_ordering_stages = RecsPipelineStages(ordering = [])\n",
    "\n",
    "ideal_ordering = builder.build(overrides=ideal_ordering_stages)"
   ]
  },
  {
   "cell_type": "code",
   "execution_count": null,
   "metadata": {},
   "outputs": [],
   "source": [
    "ideal_ordering_metrics = warp_model.compute_validation_metrics(\n",
    "    build_prediction_fn(ideal_ordering, train_dataloader),\n",
    "    tqdm(val_dataloader),\n",
    "    num_recs\n",
    ")"
   ]
  },
  {
   "cell_type": "code",
   "execution_count": null,
   "metadata": {},
   "outputs": [],
   "source": [
    "print_metrics(ideal_ordering_metrics)"
   ]
  }
 ],
 "metadata": {
  "kernelspec": {
   "display_name": "Python 3",
   "language": "python",
   "name": "python3"
  },
  "language_info": {
   "codemirror_mode": {
    "name": "ipython",
    "version": 3
   },
   "file_extension": ".py",
   "mimetype": "text/x-python",
   "name": "python",
   "nbconvert_exporter": "python",
   "pygments_lexer": "ipython3",
   "version": "3.8.3"
  }
 },
 "nbformat": 4,
 "nbformat_minor": 4
}
